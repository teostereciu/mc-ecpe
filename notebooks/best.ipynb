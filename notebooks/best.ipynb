{
 "cells": [
  {
   "cell_type": "code",
   "execution_count": 152,
   "metadata": {},
   "outputs": [],
   "source": [
    "import json\n",
    "import numpy as np\n",
    "import pandas as pd\n",
    "from pathlib import Path\n",
    "\n",
    "notebooks_dir = Path.cwd()\n",
    "project_dir = notebooks_dir.parent\n",
    "data_dir = project_dir / 'data' / 'raw'\n",
    "text_data_path = data_dir / 'Subtask_2_train.json'\n",
    "interim_dir = project_dir / 'data' / 'interim'\n",
    "mel_dir = interim_dir / 'mel' "
   ]
  },
  {
   "cell_type": "markdown",
   "metadata": {},
   "source": [
    "# Prepare text data"
   ]
  },
  {
   "cell_type": "code",
   "execution_count": 153,
   "metadata": {},
   "outputs": [
    {
     "name": "stdout",
     "output_type": "stream",
     "text": [
      "{'utterance_ID': 1, 'text': 'Alright , so I am back in high school , I am standing in the middle of the cafeteria , and I realize I am totally naked .', 'speaker': 'Chandler', 'emotion': 'neutral', 'video_name': 'dia1utt1.mp4'}\n",
      "{'utterance_ID': 2, 'text': 'Oh , yeah . Had that dream .', 'speaker': 'All', 'emotion': 'neutral', 'video_name': 'dia1utt2.mp4'}\n",
      "{'utterance_ID': 3, 'text': 'Then I look down , and I realize there is a phone ... there .', 'speaker': 'Chandler', 'emotion': 'surprise', 'video_name': 'dia1utt3.mp4'}\n",
      "{'utterance_ID': 4, 'text': 'Instead of ... ?', 'speaker': 'Joey', 'emotion': 'surprise', 'video_name': 'dia1utt4.mp4'}\n",
      "{'utterance_ID': 5, 'text': 'That is right .', 'speaker': 'Chandler', 'emotion': 'anger', 'video_name': 'dia1utt5.mp4'}\n",
      "{'utterance_ID': 6, 'text': 'Never had that dream .', 'speaker': 'Joey', 'emotion': 'neutral', 'video_name': 'dia1utt6.mp4'}\n",
      "{'utterance_ID': 7, 'text': 'No .', 'speaker': 'Phoebe', 'emotion': 'neutral', 'video_name': 'dia1utt7.mp4'}\n",
      "{'utterance_ID': 8, 'text': 'All of a sudden , the phone starts to ring .', 'speaker': 'Chandler', 'emotion': 'neutral', 'video_name': 'dia1utt8.mp4'}\n"
     ]
    }
   ],
   "source": [
    "text_data = json.loads(text_data_path.read_text())\n",
    "for i in range(len(text_data[0]['conversation'])):\n",
    "    print(text_data[0]['conversation'][i])"
   ]
  },
  {
   "cell_type": "markdown",
   "metadata": {},
   "source": [
    "Load data from JSON file"
   ]
  },
  {
   "cell_type": "code",
   "execution_count": 154,
   "metadata": {},
   "outputs": [],
   "source": [
    "def get_conversation_from_json(json_convo):\n",
    "    convo = []\n",
    "    emotions = []\n",
    "    filenames = []\n",
    "    speakers = []\n",
    "    for line_idx in range(len(json_convo)):\n",
    "        convo += [json_convo[line_idx]['text']]\n",
    "        emotions += [json_convo[line_idx]['emotion']]\n",
    "        filenames += [json_convo[line_idx]['video_name'][:-4]]\n",
    "        speakers += [json_convo[line_idx]['speaker']]\n",
    "    return convo, emotions, filenames, speakers\n",
    "\n",
    "convos = []\n",
    "all_emotions = []\n",
    "all_filenames = []\n",
    "all_speakers = []\n",
    "for convo_idx in range(len(text_data)):\n",
    "    convo, emotions, filenames, speakers = get_conversation_from_json(text_data[convo_idx]['conversation'])\n",
    "    convos += convo\n",
    "    all_emotions += emotions\n",
    "    all_filenames += filenames\n",
    "    all_speakers += speakers\n",
    "\n",
    "data_dict = {'filename': all_filenames, 'conversation' : convos, 'emotion': all_emotions, 'speaker': all_speakers}"
   ]
  },
  {
   "cell_type": "code",
   "execution_count": 155,
   "metadata": {},
   "outputs": [
    {
     "data": {
      "text/html": [
       "<div>\n",
       "<style scoped>\n",
       "    .dataframe tbody tr th:only-of-type {\n",
       "        vertical-align: middle;\n",
       "    }\n",
       "\n",
       "    .dataframe tbody tr th {\n",
       "        vertical-align: top;\n",
       "    }\n",
       "\n",
       "    .dataframe thead th {\n",
       "        text-align: right;\n",
       "    }\n",
       "</style>\n",
       "<table border=\"1\" class=\"dataframe\">\n",
       "  <thead>\n",
       "    <tr style=\"text-align: right;\">\n",
       "      <th></th>\n",
       "      <th>filename</th>\n",
       "      <th>conversation</th>\n",
       "      <th>emotion</th>\n",
       "      <th>speaker</th>\n",
       "    </tr>\n",
       "  </thead>\n",
       "  <tbody>\n",
       "    <tr>\n",
       "      <th>0</th>\n",
       "      <td>dia1utt1</td>\n",
       "      <td>Alright , so I am back in high school , I am s...</td>\n",
       "      <td>neutral</td>\n",
       "      <td>Chandler</td>\n",
       "    </tr>\n",
       "    <tr>\n",
       "      <th>1</th>\n",
       "      <td>dia1utt2</td>\n",
       "      <td>Oh , yeah . Had that dream .</td>\n",
       "      <td>neutral</td>\n",
       "      <td>All</td>\n",
       "    </tr>\n",
       "    <tr>\n",
       "      <th>2</th>\n",
       "      <td>dia1utt3</td>\n",
       "      <td>Then I look down , and I realize there is a ph...</td>\n",
       "      <td>surprise</td>\n",
       "      <td>Chandler</td>\n",
       "    </tr>\n",
       "    <tr>\n",
       "      <th>3</th>\n",
       "      <td>dia1utt4</td>\n",
       "      <td>Instead of ... ?</td>\n",
       "      <td>surprise</td>\n",
       "      <td>Joey</td>\n",
       "    </tr>\n",
       "    <tr>\n",
       "      <th>4</th>\n",
       "      <td>dia1utt5</td>\n",
       "      <td>That is right .</td>\n",
       "      <td>anger</td>\n",
       "      <td>Chandler</td>\n",
       "    </tr>\n",
       "  </tbody>\n",
       "</table>\n",
       "</div>"
      ],
      "text/plain": [
       "   filename                                       conversation   emotion  \\\n",
       "0  dia1utt1  Alright , so I am back in high school , I am s...   neutral   \n",
       "1  dia1utt2                       Oh , yeah . Had that dream .   neutral   \n",
       "2  dia1utt3  Then I look down , and I realize there is a ph...  surprise   \n",
       "3  dia1utt4                                   Instead of ... ?  surprise   \n",
       "4  dia1utt5                                    That is right .     anger   \n",
       "\n",
       "    speaker  \n",
       "0  Chandler  \n",
       "1       All  \n",
       "2  Chandler  \n",
       "3      Joey  \n",
       "4  Chandler  "
      ]
     },
     "execution_count": 155,
     "metadata": {},
     "output_type": "execute_result"
    }
   ],
   "source": [
    "import pandas as pd\n",
    "\n",
    "df = pd.DataFrame(data_dict)\n",
    "df.head()"
   ]
  },
  {
   "cell_type": "markdown",
   "metadata": {},
   "source": [
    "Fix contractions in text"
   ]
  },
  {
   "cell_type": "code",
   "execution_count": 156,
   "metadata": {},
   "outputs": [],
   "source": [
    "import contractions\n",
    "\n",
    "def fix_contractions(doc):\n",
    "    # expand contractions\n",
    "    doc = contractions.fix(doc)\n",
    "    return doc\n",
    "\n",
    "#df['fixed_conversation'] = df['conversation'].apply(lambda convo: fix_contractions(convo))\n",
    "\n",
    "all_filenames = df['filename'].tolist()\n",
    "#all_text = df['fixed_conversation'].tolist()\n",
    "all_text = df['conversation'].tolist()\n",
    "all_labels = df['emotion'].tolist()\n",
    "all_speakers = df['speaker'].tolist()"
   ]
  },
  {
   "cell_type": "markdown",
   "metadata": {},
   "source": [
    "Split into train/val/test following the given file split which matches the audio split"
   ]
  },
  {
   "cell_type": "markdown",
   "metadata": {},
   "source": [
    "also load mel spectograms"
   ]
  },
  {
   "cell_type": "code",
   "execution_count": 167,
   "metadata": {},
   "outputs": [],
   "source": [
    "from skimage import io\n",
    "\n",
    "X_train_text = []\n",
    "X_train_speaker = []\n",
    "X_train_mel = []\n",
    "y_train_text = []\n",
    "\n",
    "\n",
    "pathlist = (mel_dir / 'train').rglob('*.tiff')\n",
    "\n",
    "for path in pathlist:\n",
    "    extra = len(str(mel_dir / 'train'))+1\n",
    "    str_path = str(path)\n",
    "    fname = str_path[extra:-5] \n",
    "    idx = all_filenames.index(fname)\n",
    "    text = all_text[idx]\n",
    "    label = all_emotions[idx]\n",
    "    speaker = all_speakers[idx]\n",
    "\n",
    "    mel = io.imread(path)\n",
    "    X_train_mel.append(mel)\n",
    "    \n",
    "    X_train_text.append(text)\n",
    "    X_train_speaker.append(speaker)\n",
    "    y_train_text.append(label)"
   ]
  },
  {
   "cell_type": "code",
   "execution_count": 158,
   "metadata": {},
   "outputs": [],
   "source": [
    "X_val_text = []\n",
    "X_val_speaker = []\n",
    "X_val_mel = []\n",
    "y_val_text = []\n",
    "\n",
    "pathlist = (mel_dir / 'dev').rglob('*.tiff')\n",
    "\n",
    "for path in pathlist:\n",
    "    extra = len(str(mel_dir / 'dev'))+1\n",
    "    str_path = str(path)\n",
    "    fname = str_path[extra:-5] \n",
    "    idx = all_filenames.index(fname)\n",
    "    text = all_text[idx]\n",
    "    label = all_emotions[idx]\n",
    "    speaker = all_speakers[idx]\n",
    "\n",
    "    mel = io.imread(path)\n",
    "    X_val_mel.append(mel)\n",
    "    \n",
    "    X_val_text.append(text)\n",
    "    X_val_speaker.append(speaker)\n",
    "    y_val_text.append(label)"
   ]
  },
  {
   "cell_type": "code",
   "execution_count": 159,
   "metadata": {},
   "outputs": [],
   "source": [
    "X_test_text = []\n",
    "X_test_speaker = []\n",
    "X_test_mel = []\n",
    "y_test_text = []\n",
    "\n",
    "pathlist = (mel_dir / 'test').rglob('*.tiff')\n",
    "\n",
    "for path in pathlist:\n",
    "    extra = len(str(mel_dir / 'test'))+1\n",
    "    str_path = str(path)\n",
    "    fname = str_path[extra:-5] \n",
    "    idx = all_filenames.index(fname)\n",
    "    text = all_text[idx]\n",
    "    label = all_emotions[idx]\n",
    "    speaker = all_speakers[idx]\n",
    "\n",
    "    mel = io.imread(path)\n",
    "    X_test_mel.append(mel)\n",
    "    \n",
    "    X_test_text.append(text)\n",
    "    X_test_speaker.append(speaker)\n",
    "    y_test_text.append(label)"
   ]
  },
  {
   "cell_type": "code",
   "execution_count": 173,
   "metadata": {},
   "outputs": [
    {
     "name": "stdout",
     "output_type": "stream",
     "text": [
      "Shape of X_train_text: (9966,)\n",
      "Shape of X_train_mel: (9966, 128, 128)\n",
      "Shape of X_train_speaker: (9966,)\n",
      "Shape of y_train_text: (9966,)\n"
     ]
    }
   ],
   "source": [
    "X_train_text = np.asarray(X_train_text)\n",
    "X_train_mel = np.asarray(X_train_mel)\n",
    "X_train_speaker = np.asarray(X_train_speaker)\n",
    "y_train_text = np.asarray(y_train_text)\n",
    "\n",
    "print(f'Shape of X_train_text: {X_train_text.shape}')\n",
    "print(f'Shape of X_train_mel: {X_train_mel.shape}')\n",
    "print(f'Shape of X_train_speaker: {X_train_speaker.shape}')\n",
    "print(f'Shape of y_train_text: {y_train_text.shape}')"
   ]
  },
  {
   "cell_type": "code",
   "execution_count": 176,
   "metadata": {},
   "outputs": [
    {
     "name": "stdout",
     "output_type": "stream",
     "text": [
      "Shape of X_val_text: (1087,)\n",
      "Shape of X_val_mel: (1087, 128, 128)\n",
      "Shape of X_val_speaker: (1087,)\n",
      "Shape of y_val_text: (1087,)\n",
      "Shape of X_test_text: (2566,)\n",
      "Shape of X_test_mel: (2566, 128, 128)\n",
      "Shape of X_test_speaker: (2566,)\n",
      "Shape of y_test_text: (2566,)\n"
     ]
    }
   ],
   "source": [
    "X_val_text = np.asarray(X_val_text)\n",
    "X_val_mel = np.asarray(X_val_mel)\n",
    "X_val_speaker = np.asarray(X_val_speaker)\n",
    "y_val_text = np.asarray(y_val_text)\n",
    "\n",
    "X_test_text = np.asarray(X_test_text)\n",
    "X_test_mel = np.asarray(X_test_mel)\n",
    "X_test_speaker = np.asarray(X_test_speaker)\n",
    "y_test_text = np.asarray(y_test_text)\n",
    "\n",
    "print(f'Shape of X_val_text: {X_val_text.shape}')\n",
    "print(f'Shape of X_val_mel: {X_val_mel.shape}')\n",
    "print(f'Shape of X_val_speaker: {X_val_speaker.shape}')\n",
    "print(f'Shape of y_val_text: {y_val_text.shape}')\n",
    "\n",
    "print(f'Shape of X_test_text: {X_test_text.shape}')\n",
    "print(f'Shape of X_test_mel: {X_test_mel.shape}')\n",
    "print(f'Shape of X_test_speaker: {X_test_speaker.shape}')\n",
    "print(f'Shape of y_test_text: {y_test_text.shape}')"
   ]
  },
  {
   "cell_type": "markdown",
   "metadata": {},
   "source": [
    "Prepare labels"
   ]
  },
  {
   "cell_type": "code",
   "execution_count": 177,
   "metadata": {},
   "outputs": [],
   "source": [
    "import tensorflow as tf\n",
    "\n",
    "labels = ['neutral', 'joy', 'surprise', 'anger', 'fear', 'disgust', 'sadness']\n",
    "num_classes = len(labels)\n",
    "label_to_index = {label: index for index, label in enumerate(labels)}\n",
    "index_to_label = {index: label for index, label in enumerate(labels)}\n",
    "\n",
    "train_idx_label = [label_to_index[label] for label in y_train_text]\n",
    "y_train_text_onehot = tf.one_hot(train_idx_label, len(labels)).numpy()\n",
    "\n",
    "val_idx_label = [label_to_index[label] for label in y_val_text]\n",
    "y_val_text_onehot = tf.one_hot(val_idx_label, len(labels)).numpy()\n",
    "\n",
    "test_idx_label = [label_to_index[label] for label in y_test_text]\n",
    "y_test_text_onehot = tf.one_hot(test_idx_label, len(labels)).numpy()"
   ]
  },
  {
   "cell_type": "markdown",
   "metadata": {},
   "source": [
    "Import BERT model"
   ]
  },
  {
   "cell_type": "code",
   "execution_count": 178,
   "metadata": {},
   "outputs": [],
   "source": [
    "import tensorflow_hub as hub\n",
    "import tensorflow as tf\n",
    "from bert.tokenization import FullTokenizer     \n",
    "from tensorflow.keras.models import Model\n",
    "import os\n",
    "\n",
    "#os.environ[\"TFHUB_MODEL_LOAD_FORMAT\"] = \"UNCOMPRESSED\"\n",
    "\n",
    "MAX_LEN = 50\n",
    "hub_link = \"https://kaggle.com/models/tensorflow/bert/TensorFlow2/en-uncased-l-12-h-768-a-12/1\"\n",
    "max_seq_length = MAX_LEN\n",
    "num_classes = len(labels)\n",
    "\n",
    "input_word_ids = tf.keras.layers.Input(shape=(max_seq_length,),\n",
    "                                       dtype=tf.int32,\n",
    "                                       name=\"input_word_ids\")\n",
    "input_mask = tf.keras.layers.Input(shape=(max_seq_length,),\n",
    "                                   dtype=tf.int32,\n",
    "                                   name=\"input_mask\")\n",
    "segment_ids = tf.keras.layers.Input(shape=(max_seq_length,),\n",
    "                                    dtype=tf.int32,\n",
    "                                    name=\"segment_ids\")\n",
    "bert_layer = hub.KerasLayer(hub_link,\n",
    "                            trainable=True)\n",
    "pooled_output, sequence_output = bert_layer([input_word_ids, input_mask, segment_ids])\n",
    "\n",
    "dense_layer1 = tf.keras.layers.Dense(128, activation='relu')(pooled_output)\n",
    "dense_layer2 = tf.keras.layers.Dense(num_classes, activation='softmax')(dense_layer1)\n",
    "\n",
    "#model = tf.keras.Model(inputs=[input_word_ids, input_mask, segment_ids], outputs=dense_layer2) for fine tuning\n",
    "\n",
    "bert_model = Model(inputs=[input_word_ids, input_mask, segment_ids], outputs=[pooled_output, sequence_output])"
   ]
  },
  {
   "cell_type": "code",
   "execution_count": 179,
   "metadata": {},
   "outputs": [
    {
     "name": "stdout",
     "output_type": "stream",
     "text": [
      "Model: \"model_22\"\n",
      "__________________________________________________________________________________________________\n",
      " Layer (type)                   Output Shape         Param #     Connected to                     \n",
      "==================================================================================================\n",
      " input_word_ids (InputLayer)    [(None, 50)]         0           []                               \n",
      "                                                                                                  \n",
      " input_mask (InputLayer)        [(None, 50)]         0           []                               \n",
      "                                                                                                  \n",
      " segment_ids (InputLayer)       [(None, 50)]         0           []                               \n",
      "                                                                                                  \n",
      " keras_layer_1 (KerasLayer)     [(None, 768),        109482241   ['input_word_ids[0][0]',         \n",
      "                                 (None, 50, 768)]                 'input_mask[0][0]',             \n",
      "                                                                  'segment_ids[0][0]']            \n",
      "                                                                                                  \n",
      "==================================================================================================\n",
      "Total params: 109,482,241\n",
      "Trainable params: 109,482,240\n",
      "Non-trainable params: 1\n",
      "__________________________________________________________________________________________________\n"
     ]
    }
   ],
   "source": [
    "bert_model.summary()"
   ]
  },
  {
   "cell_type": "markdown",
   "metadata": {},
   "source": [
    "Preprocessing helpers for BERT"
   ]
  },
  {
   "cell_type": "code",
   "execution_count": 180,
   "metadata": {},
   "outputs": [],
   "source": [
    "def get_masks(tokens, max_seq_length):\n",
    "    \"\"\"Mask for padding\"\"\"\n",
    "    if len(tokens)>max_seq_length:\n",
    "        #print(len(tokens))\n",
    "        #raise IndexError(\"Token length more than max seq length!\")\n",
    "        tokens = tokens[:max_seq_length]\n",
    "    return [1]*len(tokens) + [0] * (max_seq_length - len(tokens))\n",
    "\n",
    "\n",
    "def get_segments(tokens, max_seq_length):\n",
    "    \"\"\"Segments: 0 for the first sequence, 1 for the second\"\"\"\n",
    "    if len(tokens)>max_seq_length:\n",
    "        #raise IndexError(\"Token length more than max seq length!\")\n",
    "        tokens = tokens[:max_seq_length]\n",
    "    segments = []\n",
    "    current_segment_id = 0\n",
    "    for token in tokens:\n",
    "        segments.append(current_segment_id)\n",
    "        if token == \"[SEP]\":\n",
    "            current_segment_id = 1\n",
    "    return segments + [0] * (max_seq_length - len(tokens))\n",
    "\n",
    "\n",
    "def get_ids(tokens, tokenizer, max_seq_length):\n",
    "    \"\"\"Token ids from Tokenizer vocab\"\"\"\n",
    "    if len(tokens) > max_seq_length:\n",
    "        tokens = tokens[:max_seq_length]\n",
    "    token_ids = tokenizer.convert_tokens_to_ids(tokens)\n",
    "    input_ids = token_ids + [0] * (max_seq_length-len(token_ids))\n",
    "    return input_ids\n",
    "\n",
    "\n",
    "vocab_file = bert_layer.resolved_object.vocab_file.asset_path.numpy()\n",
    "do_lower_case = bert_layer.resolved_object.do_lower_case.numpy()\n",
    "tokenizer = FullTokenizer(vocab_file, do_lower_case)"
   ]
  },
  {
   "cell_type": "markdown",
   "metadata": {},
   "source": [
    "Preprocess text for BERT"
   ]
  },
  {
   "cell_type": "code",
   "execution_count": 181,
   "metadata": {},
   "outputs": [],
   "source": [
    "def preprocess_text(X):\n",
    "    tokenized_X = [tokenizer.tokenize(text) for text in X]\n",
    "    input_ids = [get_ids(tokens, tokenizer, max_seq_length) for tokens in tokenized_X]\n",
    "    input_masks = [get_masks(tokens, max_seq_length) for tokens in tokenized_X]\n",
    "    input_segments = [get_segments(tokens, max_seq_length) for tokens in tokenized_X]\n",
    "\n",
    "    return np.array(input_ids), np.array(input_masks), np.array(input_segments)"
   ]
  },
  {
   "cell_type": "code",
   "execution_count": 182,
   "metadata": {},
   "outputs": [
    {
     "data": {
      "text/plain": [
       "['preserve_unused_tokens=False']"
      ]
     },
     "execution_count": 182,
     "metadata": {},
     "output_type": "execute_result"
    }
   ],
   "source": [
    "import sys\n",
    "from absl import flags\n",
    "sys.argv=['preserve_unused_tokens=False']\n",
    "flags.FLAGS(sys.argv)"
   ]
  },
  {
   "cell_type": "code",
   "execution_count": 183,
   "metadata": {},
   "outputs": [],
   "source": [
    "train_input_ids, train_input_masks, train_input_segments = preprocess_text(X_train_text)\n",
    "val_input_ids, val_input_masks, val_input_segments = preprocess_text(X_val_text)\n",
    "test_input_ids, test_input_masks, test_input_segments = preprocess_text(X_test_text)"
   ]
  },
  {
   "cell_type": "markdown",
   "metadata": {},
   "source": [
    "Get BERT embeddings"
   ]
  },
  {
   "cell_type": "code",
   "execution_count": 184,
   "metadata": {},
   "outputs": [
    {
     "name": "stderr",
     "output_type": "stream",
     "text": [
      "2024-04-17 17:10:19.849364: I tensorflow/core/grappler/optimizers/custom_graph_optimizer_registry.cc:113] Plugin optimizer for device_type GPU is enabled.\n"
     ]
    },
    {
     "name": "stdout",
     "output_type": "stream",
     "text": [
      "312/312 [==============================] - 124s 377ms/step\n",
      "34/34 [==============================] - 24s 633ms/step\n",
      "81/81 [==============================] - 34s 426ms/step\n"
     ]
    }
   ],
   "source": [
    "pool_embs_train, all_embs_train = bert_model.predict(\n",
    "    x={\"input_word_ids\": train_input_ids,\n",
    "       \"input_mask\": train_input_masks,\n",
    "       \"segment_ids\": train_input_segments})\n",
    "\n",
    "pool_embs_val, all_embs_val = bert_model.predict(\n",
    "    x={\"input_word_ids\": val_input_ids,\n",
    "       \"input_mask\": val_input_masks,\n",
    "       \"segment_ids\": val_input_segments})\n",
    "\n",
    "pool_embs_test, all_embs_test = bert_model.predict(\n",
    "    x={\"input_word_ids\": test_input_ids,\n",
    "       \"input_mask\": test_input_masks,\n",
    "       \"segment_ids\": test_input_segments})"
   ]
  },
  {
   "cell_type": "code",
   "execution_count": 185,
   "metadata": {},
   "outputs": [
    {
     "name": "stdout",
     "output_type": "stream",
     "text": [
      "Shape of pooled output: (9966, 768)\n",
      "Shape of all embeddings output: (9966, 50, 768)\n"
     ]
    }
   ],
   "source": [
    "print(f\"Shape of pooled output: {pool_embs_train.shape}\")\n",
    "print(f\"Shape of all embeddings output: {all_embs_train.shape}\")"
   ]
  },
  {
   "cell_type": "markdown",
   "metadata": {},
   "source": [
    "# Logistic Regression text baseline "
   ]
  },
  {
   "cell_type": "code",
   "execution_count": 186,
   "metadata": {},
   "outputs": [
    {
     "name": "stdout",
     "output_type": "stream",
     "text": [
      "Train accuracy: 0.6173991571342565\n",
      "Validation accuracy: 0.5234590616375345\n"
     ]
    }
   ],
   "source": [
    "from sklearn.linear_model import LogisticRegression\n",
    "from sklearn.metrics import accuracy_score\n",
    "\n",
    "y_train_int = np.argmax(y_train_text_onehot, axis=1)\n",
    "y_val_int = np.argmax(y_val_text_onehot, axis=1)\n",
    "\n",
    "logreg = LogisticRegression(max_iter=1000)\n",
    "logreg.fit(pool_embs_train, y_train_int)\n",
    "\n",
    "train_accuracy = logreg.score(pool_embs_train, y_train_int)\n",
    "\n",
    "predictions = logreg.predict(pool_embs_val)\n",
    "accuracy = accuracy_score(y_val_int, predictions)\n",
    "print(\"Train accuracy:\", train_accuracy)\n",
    "print(\"Validation accuracy:\", accuracy)"
   ]
  },
  {
   "cell_type": "code",
   "execution_count": 187,
   "metadata": {},
   "outputs": [
    {
     "name": "stdout",
     "output_type": "stream",
     "text": [
      "Test accuracy: 0.5381917381137958\n"
     ]
    }
   ],
   "source": [
    "y_test_int = np.argmax(y_test_text_onehot, axis=1)\n",
    "test_accuracy = logreg.score(pool_embs_test, y_test_int)\n",
    "print(\"Test accuracy:\", test_accuracy)"
   ]
  },
  {
   "cell_type": "markdown",
   "metadata": {},
   "source": [
    "PCA + scaling"
   ]
  },
  {
   "cell_type": "code",
   "execution_count": 274,
   "metadata": {},
   "outputs": [
    {
     "name": "stdout",
     "output_type": "stream",
     "text": [
      "Train accuracy: 0.6084687938992575\n",
      "Validation accuracy: 0.5179392824287029\n"
     ]
    }
   ],
   "source": [
    "logreg_ = LogisticRegression(max_iter=1000)\n",
    "logreg_.fit(pca_embs_train, y_train_int)\n",
    "print(\"Train accuracy:\", logreg_.score(pca_embs_train, y_train_int))\n",
    "print(\"Validation accuracy:\", logreg_.score(pca_embs_val, y_val_int))"
   ]
  },
  {
   "cell_type": "code",
   "execution_count": 275,
   "metadata": {},
   "outputs": [
    {
     "name": "stdout",
     "output_type": "stream",
     "text": [
      "Train accuracy: 0.6162954043748746\n",
      "Validation accuracy: 0.516099356025759\n"
     ]
    }
   ],
   "source": [
    "logreg_ = LogisticRegression(max_iter=1000)\n",
    "logreg_.fit(scaled_embs_train, y_train_int)\n",
    "print(\"Train accuracy:\", logreg_.score(scaled_embs_train, y_train_int))\n",
    "print(\"Validation accuracy:\", logreg_.score(scaled_embs_val, y_val_int))"
   ]
  },
  {
   "cell_type": "markdown",
   "metadata": {},
   "source": [
    "# Naive Bayes"
   ]
  },
  {
   "cell_type": "code",
   "execution_count": 269,
   "metadata": {},
   "outputs": [],
   "source": [
    "from sklearn.decomposition import PCA\n",
    "pca = PCA(n_components=500)\n",
    "pca.fit(pool_embs_train)\n",
    "pca_embs_train = pca.transform(pool_embs_train)"
   ]
  },
  {
   "cell_type": "code",
   "execution_count": 270,
   "metadata": {},
   "outputs": [],
   "source": [
    "from sklearn.preprocessing import MinMaxScaler\n",
    "\n",
    "scaler = MinMaxScaler()\n",
    "scaler.fit(pca_embs_train)\n",
    "scaled_embs_train = scaler.transform(pca_embs_train)"
   ]
  },
  {
   "cell_type": "code",
   "execution_count": 271,
   "metadata": {},
   "outputs": [
    {
     "data": {
      "text/html": [
       "<style>#sk-container-id-7 {\n",
       "  /* Definition of color scheme common for light and dark mode */\n",
       "  --sklearn-color-text: black;\n",
       "  --sklearn-color-line: gray;\n",
       "  /* Definition of color scheme for unfitted estimators */\n",
       "  --sklearn-color-unfitted-level-0: #fff5e6;\n",
       "  --sklearn-color-unfitted-level-1: #f6e4d2;\n",
       "  --sklearn-color-unfitted-level-2: #ffe0b3;\n",
       "  --sklearn-color-unfitted-level-3: chocolate;\n",
       "  /* Definition of color scheme for fitted estimators */\n",
       "  --sklearn-color-fitted-level-0: #f0f8ff;\n",
       "  --sklearn-color-fitted-level-1: #d4ebff;\n",
       "  --sklearn-color-fitted-level-2: #b3dbfd;\n",
       "  --sklearn-color-fitted-level-3: cornflowerblue;\n",
       "\n",
       "  /* Specific color for light theme */\n",
       "  --sklearn-color-text-on-default-background: var(--sg-text-color, var(--theme-code-foreground, var(--jp-content-font-color1, black)));\n",
       "  --sklearn-color-background: var(--sg-background-color, var(--theme-background, var(--jp-layout-color0, white)));\n",
       "  --sklearn-color-border-box: var(--sg-text-color, var(--theme-code-foreground, var(--jp-content-font-color1, black)));\n",
       "  --sklearn-color-icon: #696969;\n",
       "\n",
       "  @media (prefers-color-scheme: dark) {\n",
       "    /* Redefinition of color scheme for dark theme */\n",
       "    --sklearn-color-text-on-default-background: var(--sg-text-color, var(--theme-code-foreground, var(--jp-content-font-color1, white)));\n",
       "    --sklearn-color-background: var(--sg-background-color, var(--theme-background, var(--jp-layout-color0, #111)));\n",
       "    --sklearn-color-border-box: var(--sg-text-color, var(--theme-code-foreground, var(--jp-content-font-color1, white)));\n",
       "    --sklearn-color-icon: #878787;\n",
       "  }\n",
       "}\n",
       "\n",
       "#sk-container-id-7 {\n",
       "  color: var(--sklearn-color-text);\n",
       "}\n",
       "\n",
       "#sk-container-id-7 pre {\n",
       "  padding: 0;\n",
       "}\n",
       "\n",
       "#sk-container-id-7 input.sk-hidden--visually {\n",
       "  border: 0;\n",
       "  clip: rect(1px 1px 1px 1px);\n",
       "  clip: rect(1px, 1px, 1px, 1px);\n",
       "  height: 1px;\n",
       "  margin: -1px;\n",
       "  overflow: hidden;\n",
       "  padding: 0;\n",
       "  position: absolute;\n",
       "  width: 1px;\n",
       "}\n",
       "\n",
       "#sk-container-id-7 div.sk-dashed-wrapped {\n",
       "  border: 1px dashed var(--sklearn-color-line);\n",
       "  margin: 0 0.4em 0.5em 0.4em;\n",
       "  box-sizing: border-box;\n",
       "  padding-bottom: 0.4em;\n",
       "  background-color: var(--sklearn-color-background);\n",
       "}\n",
       "\n",
       "#sk-container-id-7 div.sk-container {\n",
       "  /* jupyter's `normalize.less` sets `[hidden] { display: none; }`\n",
       "     but bootstrap.min.css set `[hidden] { display: none !important; }`\n",
       "     so we also need the `!important` here to be able to override the\n",
       "     default hidden behavior on the sphinx rendered scikit-learn.org.\n",
       "     See: https://github.com/scikit-learn/scikit-learn/issues/21755 */\n",
       "  display: inline-block !important;\n",
       "  position: relative;\n",
       "}\n",
       "\n",
       "#sk-container-id-7 div.sk-text-repr-fallback {\n",
       "  display: none;\n",
       "}\n",
       "\n",
       "div.sk-parallel-item,\n",
       "div.sk-serial,\n",
       "div.sk-item {\n",
       "  /* draw centered vertical line to link estimators */\n",
       "  background-image: linear-gradient(var(--sklearn-color-text-on-default-background), var(--sklearn-color-text-on-default-background));\n",
       "  background-size: 2px 100%;\n",
       "  background-repeat: no-repeat;\n",
       "  background-position: center center;\n",
       "}\n",
       "\n",
       "/* Parallel-specific style estimator block */\n",
       "\n",
       "#sk-container-id-7 div.sk-parallel-item::after {\n",
       "  content: \"\";\n",
       "  width: 100%;\n",
       "  border-bottom: 2px solid var(--sklearn-color-text-on-default-background);\n",
       "  flex-grow: 1;\n",
       "}\n",
       "\n",
       "#sk-container-id-7 div.sk-parallel {\n",
       "  display: flex;\n",
       "  align-items: stretch;\n",
       "  justify-content: center;\n",
       "  background-color: var(--sklearn-color-background);\n",
       "  position: relative;\n",
       "}\n",
       "\n",
       "#sk-container-id-7 div.sk-parallel-item {\n",
       "  display: flex;\n",
       "  flex-direction: column;\n",
       "}\n",
       "\n",
       "#sk-container-id-7 div.sk-parallel-item:first-child::after {\n",
       "  align-self: flex-end;\n",
       "  width: 50%;\n",
       "}\n",
       "\n",
       "#sk-container-id-7 div.sk-parallel-item:last-child::after {\n",
       "  align-self: flex-start;\n",
       "  width: 50%;\n",
       "}\n",
       "\n",
       "#sk-container-id-7 div.sk-parallel-item:only-child::after {\n",
       "  width: 0;\n",
       "}\n",
       "\n",
       "/* Serial-specific style estimator block */\n",
       "\n",
       "#sk-container-id-7 div.sk-serial {\n",
       "  display: flex;\n",
       "  flex-direction: column;\n",
       "  align-items: center;\n",
       "  background-color: var(--sklearn-color-background);\n",
       "  padding-right: 1em;\n",
       "  padding-left: 1em;\n",
       "}\n",
       "\n",
       "\n",
       "/* Toggleable style: style used for estimator/Pipeline/ColumnTransformer box that is\n",
       "clickable and can be expanded/collapsed.\n",
       "- Pipeline and ColumnTransformer use this feature and define the default style\n",
       "- Estimators will overwrite some part of the style using the `sk-estimator` class\n",
       "*/\n",
       "\n",
       "/* Pipeline and ColumnTransformer style (default) */\n",
       "\n",
       "#sk-container-id-7 div.sk-toggleable {\n",
       "  /* Default theme specific background. It is overwritten whether we have a\n",
       "  specific estimator or a Pipeline/ColumnTransformer */\n",
       "  background-color: var(--sklearn-color-background);\n",
       "}\n",
       "\n",
       "/* Toggleable label */\n",
       "#sk-container-id-7 label.sk-toggleable__label {\n",
       "  cursor: pointer;\n",
       "  display: block;\n",
       "  width: 100%;\n",
       "  margin-bottom: 0;\n",
       "  padding: 0.5em;\n",
       "  box-sizing: border-box;\n",
       "  text-align: center;\n",
       "}\n",
       "\n",
       "#sk-container-id-7 label.sk-toggleable__label-arrow:before {\n",
       "  /* Arrow on the left of the label */\n",
       "  content: \"▸\";\n",
       "  float: left;\n",
       "  margin-right: 0.25em;\n",
       "  color: var(--sklearn-color-icon);\n",
       "}\n",
       "\n",
       "#sk-container-id-7 label.sk-toggleable__label-arrow:hover:before {\n",
       "  color: var(--sklearn-color-text);\n",
       "}\n",
       "\n",
       "/* Toggleable content - dropdown */\n",
       "\n",
       "#sk-container-id-7 div.sk-toggleable__content {\n",
       "  max-height: 0;\n",
       "  max-width: 0;\n",
       "  overflow: hidden;\n",
       "  text-align: left;\n",
       "  /* unfitted */\n",
       "  background-color: var(--sklearn-color-unfitted-level-0);\n",
       "}\n",
       "\n",
       "#sk-container-id-7 div.sk-toggleable__content.fitted {\n",
       "  /* fitted */\n",
       "  background-color: var(--sklearn-color-fitted-level-0);\n",
       "}\n",
       "\n",
       "#sk-container-id-7 div.sk-toggleable__content pre {\n",
       "  margin: 0.2em;\n",
       "  border-radius: 0.25em;\n",
       "  color: var(--sklearn-color-text);\n",
       "  /* unfitted */\n",
       "  background-color: var(--sklearn-color-unfitted-level-0);\n",
       "}\n",
       "\n",
       "#sk-container-id-7 div.sk-toggleable__content.fitted pre {\n",
       "  /* unfitted */\n",
       "  background-color: var(--sklearn-color-fitted-level-0);\n",
       "}\n",
       "\n",
       "#sk-container-id-7 input.sk-toggleable__control:checked~div.sk-toggleable__content {\n",
       "  /* Expand drop-down */\n",
       "  max-height: 200px;\n",
       "  max-width: 100%;\n",
       "  overflow: auto;\n",
       "}\n",
       "\n",
       "#sk-container-id-7 input.sk-toggleable__control:checked~label.sk-toggleable__label-arrow:before {\n",
       "  content: \"▾\";\n",
       "}\n",
       "\n",
       "/* Pipeline/ColumnTransformer-specific style */\n",
       "\n",
       "#sk-container-id-7 div.sk-label input.sk-toggleable__control:checked~label.sk-toggleable__label {\n",
       "  color: var(--sklearn-color-text);\n",
       "  background-color: var(--sklearn-color-unfitted-level-2);\n",
       "}\n",
       "\n",
       "#sk-container-id-7 div.sk-label.fitted input.sk-toggleable__control:checked~label.sk-toggleable__label {\n",
       "  background-color: var(--sklearn-color-fitted-level-2);\n",
       "}\n",
       "\n",
       "/* Estimator-specific style */\n",
       "\n",
       "/* Colorize estimator box */\n",
       "#sk-container-id-7 div.sk-estimator input.sk-toggleable__control:checked~label.sk-toggleable__label {\n",
       "  /* unfitted */\n",
       "  background-color: var(--sklearn-color-unfitted-level-2);\n",
       "}\n",
       "\n",
       "#sk-container-id-7 div.sk-estimator.fitted input.sk-toggleable__control:checked~label.sk-toggleable__label {\n",
       "  /* fitted */\n",
       "  background-color: var(--sklearn-color-fitted-level-2);\n",
       "}\n",
       "\n",
       "#sk-container-id-7 div.sk-label label.sk-toggleable__label,\n",
       "#sk-container-id-7 div.sk-label label {\n",
       "  /* The background is the default theme color */\n",
       "  color: var(--sklearn-color-text-on-default-background);\n",
       "}\n",
       "\n",
       "/* On hover, darken the color of the background */\n",
       "#sk-container-id-7 div.sk-label:hover label.sk-toggleable__label {\n",
       "  color: var(--sklearn-color-text);\n",
       "  background-color: var(--sklearn-color-unfitted-level-2);\n",
       "}\n",
       "\n",
       "/* Label box, darken color on hover, fitted */\n",
       "#sk-container-id-7 div.sk-label.fitted:hover label.sk-toggleable__label.fitted {\n",
       "  color: var(--sklearn-color-text);\n",
       "  background-color: var(--sklearn-color-fitted-level-2);\n",
       "}\n",
       "\n",
       "/* Estimator label */\n",
       "\n",
       "#sk-container-id-7 div.sk-label label {\n",
       "  font-family: monospace;\n",
       "  font-weight: bold;\n",
       "  display: inline-block;\n",
       "  line-height: 1.2em;\n",
       "}\n",
       "\n",
       "#sk-container-id-7 div.sk-label-container {\n",
       "  text-align: center;\n",
       "}\n",
       "\n",
       "/* Estimator-specific */\n",
       "#sk-container-id-7 div.sk-estimator {\n",
       "  font-family: monospace;\n",
       "  border: 1px dotted var(--sklearn-color-border-box);\n",
       "  border-radius: 0.25em;\n",
       "  box-sizing: border-box;\n",
       "  margin-bottom: 0.5em;\n",
       "  /* unfitted */\n",
       "  background-color: var(--sklearn-color-unfitted-level-0);\n",
       "}\n",
       "\n",
       "#sk-container-id-7 div.sk-estimator.fitted {\n",
       "  /* fitted */\n",
       "  background-color: var(--sklearn-color-fitted-level-0);\n",
       "}\n",
       "\n",
       "/* on hover */\n",
       "#sk-container-id-7 div.sk-estimator:hover {\n",
       "  /* unfitted */\n",
       "  background-color: var(--sklearn-color-unfitted-level-2);\n",
       "}\n",
       "\n",
       "#sk-container-id-7 div.sk-estimator.fitted:hover {\n",
       "  /* fitted */\n",
       "  background-color: var(--sklearn-color-fitted-level-2);\n",
       "}\n",
       "\n",
       "/* Specification for estimator info (e.g. \"i\" and \"?\") */\n",
       "\n",
       "/* Common style for \"i\" and \"?\" */\n",
       "\n",
       ".sk-estimator-doc-link,\n",
       "a:link.sk-estimator-doc-link,\n",
       "a:visited.sk-estimator-doc-link {\n",
       "  float: right;\n",
       "  font-size: smaller;\n",
       "  line-height: 1em;\n",
       "  font-family: monospace;\n",
       "  background-color: var(--sklearn-color-background);\n",
       "  border-radius: 1em;\n",
       "  height: 1em;\n",
       "  width: 1em;\n",
       "  text-decoration: none !important;\n",
       "  margin-left: 1ex;\n",
       "  /* unfitted */\n",
       "  border: var(--sklearn-color-unfitted-level-1) 1pt solid;\n",
       "  color: var(--sklearn-color-unfitted-level-1);\n",
       "}\n",
       "\n",
       ".sk-estimator-doc-link.fitted,\n",
       "a:link.sk-estimator-doc-link.fitted,\n",
       "a:visited.sk-estimator-doc-link.fitted {\n",
       "  /* fitted */\n",
       "  border: var(--sklearn-color-fitted-level-1) 1pt solid;\n",
       "  color: var(--sklearn-color-fitted-level-1);\n",
       "}\n",
       "\n",
       "/* On hover */\n",
       "div.sk-estimator:hover .sk-estimator-doc-link:hover,\n",
       ".sk-estimator-doc-link:hover,\n",
       "div.sk-label-container:hover .sk-estimator-doc-link:hover,\n",
       ".sk-estimator-doc-link:hover {\n",
       "  /* unfitted */\n",
       "  background-color: var(--sklearn-color-unfitted-level-3);\n",
       "  color: var(--sklearn-color-background);\n",
       "  text-decoration: none;\n",
       "}\n",
       "\n",
       "div.sk-estimator.fitted:hover .sk-estimator-doc-link.fitted:hover,\n",
       ".sk-estimator-doc-link.fitted:hover,\n",
       "div.sk-label-container:hover .sk-estimator-doc-link.fitted:hover,\n",
       ".sk-estimator-doc-link.fitted:hover {\n",
       "  /* fitted */\n",
       "  background-color: var(--sklearn-color-fitted-level-3);\n",
       "  color: var(--sklearn-color-background);\n",
       "  text-decoration: none;\n",
       "}\n",
       "\n",
       "/* Span, style for the box shown on hovering the info icon */\n",
       ".sk-estimator-doc-link span {\n",
       "  display: none;\n",
       "  z-index: 9999;\n",
       "  position: relative;\n",
       "  font-weight: normal;\n",
       "  right: .2ex;\n",
       "  padding: .5ex;\n",
       "  margin: .5ex;\n",
       "  width: min-content;\n",
       "  min-width: 20ex;\n",
       "  max-width: 50ex;\n",
       "  color: var(--sklearn-color-text);\n",
       "  box-shadow: 2pt 2pt 4pt #999;\n",
       "  /* unfitted */\n",
       "  background: var(--sklearn-color-unfitted-level-0);\n",
       "  border: .5pt solid var(--sklearn-color-unfitted-level-3);\n",
       "}\n",
       "\n",
       ".sk-estimator-doc-link.fitted span {\n",
       "  /* fitted */\n",
       "  background: var(--sklearn-color-fitted-level-0);\n",
       "  border: var(--sklearn-color-fitted-level-3);\n",
       "}\n",
       "\n",
       ".sk-estimator-doc-link:hover span {\n",
       "  display: block;\n",
       "}\n",
       "\n",
       "/* \"?\"-specific style due to the `<a>` HTML tag */\n",
       "\n",
       "#sk-container-id-7 a.estimator_doc_link {\n",
       "  float: right;\n",
       "  font-size: 1rem;\n",
       "  line-height: 1em;\n",
       "  font-family: monospace;\n",
       "  background-color: var(--sklearn-color-background);\n",
       "  border-radius: 1rem;\n",
       "  height: 1rem;\n",
       "  width: 1rem;\n",
       "  text-decoration: none;\n",
       "  /* unfitted */\n",
       "  color: var(--sklearn-color-unfitted-level-1);\n",
       "  border: var(--sklearn-color-unfitted-level-1) 1pt solid;\n",
       "}\n",
       "\n",
       "#sk-container-id-7 a.estimator_doc_link.fitted {\n",
       "  /* fitted */\n",
       "  border: var(--sklearn-color-fitted-level-1) 1pt solid;\n",
       "  color: var(--sklearn-color-fitted-level-1);\n",
       "}\n",
       "\n",
       "/* On hover */\n",
       "#sk-container-id-7 a.estimator_doc_link:hover {\n",
       "  /* unfitted */\n",
       "  background-color: var(--sklearn-color-unfitted-level-3);\n",
       "  color: var(--sklearn-color-background);\n",
       "  text-decoration: none;\n",
       "}\n",
       "\n",
       "#sk-container-id-7 a.estimator_doc_link.fitted:hover {\n",
       "  /* fitted */\n",
       "  background-color: var(--sklearn-color-fitted-level-3);\n",
       "}\n",
       "</style><div id=\"sk-container-id-7\" class=\"sk-top-container\"><div class=\"sk-text-repr-fallback\"><pre>ComplementNB()</pre><b>In a Jupyter environment, please rerun this cell to show the HTML representation or trust the notebook. <br />On GitHub, the HTML representation is unable to render, please try loading this page with nbviewer.org.</b></div><div class=\"sk-container\" hidden><div class=\"sk-item\"><div class=\"sk-estimator fitted sk-toggleable\"><input class=\"sk-toggleable__control sk-hidden--visually\" id=\"sk-estimator-id-7\" type=\"checkbox\" checked><label for=\"sk-estimator-id-7\" class=\"sk-toggleable__label fitted sk-toggleable__label-arrow fitted\">&nbsp;&nbsp;ComplementNB<a class=\"sk-estimator-doc-link fitted\" rel=\"noreferrer\" target=\"_blank\" href=\"https://scikit-learn.org/1.4/modules/generated/sklearn.naive_bayes.ComplementNB.html\">?<span>Documentation for ComplementNB</span></a><span class=\"sk-estimator-doc-link fitted\">i<span>Fitted</span></span></label><div class=\"sk-toggleable__content fitted\"><pre>ComplementNB()</pre></div> </div></div></div></div>"
      ],
      "text/plain": [
       "ComplementNB()"
      ]
     },
     "execution_count": 271,
     "metadata": {},
     "output_type": "execute_result"
    }
   ],
   "source": [
    "from sklearn.naive_bayes import ComplementNB\n",
    "nb = ComplementNB()\n",
    "nb.fit(X=scaled_embs_train, y=y_train_int)"
   ]
  },
  {
   "cell_type": "code",
   "execution_count": 272,
   "metadata": {},
   "outputs": [
    {
     "name": "stdout",
     "output_type": "stream",
     "text": [
      "Train accuracy: 0.5583985550872969\n"
     ]
    }
   ],
   "source": [
    "train_accuracy = nb.score(scaled_embs_train, y_train_int)\n",
    "print(\"Train accuracy:\", train_accuracy)"
   ]
  },
  {
   "cell_type": "code",
   "execution_count": 273,
   "metadata": {},
   "outputs": [
    {
     "name": "stdout",
     "output_type": "stream",
     "text": [
      "Validation accuracy: 0.5087396504139834\n",
      "Test accuracy: 0.5054559625876851\n"
     ]
    }
   ],
   "source": [
    "pca_embs_val = pca.transform(pool_embs_val)\n",
    "scaled_embs_val = scaler.transform(pca_embs_val)\n",
    "val_accuracy = nb.score(scaled_embs_val, y_val_int)\n",
    "print(\"Validation accuracy:\", val_accuracy)\n",
    "\n",
    "pca_embs_test = pca.transform(pool_embs_test)\n",
    "scaled_embs_test = scaler.transform(pca_embs_test)\n",
    "test_accuracy = nb.score(scaled_embs_test, y_test_int)\n",
    "print(\"Test accuracy:\", test_accuracy)"
   ]
  },
  {
   "cell_type": "markdown",
   "metadata": {},
   "source": [
    "# MLP on text"
   ]
  },
  {
   "cell_type": "code",
   "execution_count": 60,
   "metadata": {},
   "outputs": [],
   "source": [
    "from tensorflow.keras.models import Model\n",
    "from tensorflow.keras import layers \n",
    "\n",
    "def create_mlp(input_dim, num_classes):\n",
    "    inputs = layers.Input(shape=(input_dim,))\n",
    "    x = layers.Dense(1024, activation='relu')(inputs)\n",
    "    x = layers.BatchNormalization()(x)\n",
    "    \n",
    "    x = layers.Dense(512, activation='relu')(inputs)\n",
    "    x = layers.BatchNormalization()(x)\n",
    "    #x = layers.Dropout(0.5)(x)\n",
    "    \n",
    "    x = layers.Dense(256, activation='relu')(x)\n",
    "    x = layers.BatchNormalization()(x)\n",
    "    #x = layers.Dropout(0.5)(x)\n",
    "    \n",
    "    x = layers.Dense(128, activation='relu')(x)\n",
    "    x = layers.BatchNormalization()(x)\n",
    "    #x = layers.Dropout(0.5)(x)\n",
    "    \n",
    "    outputs = layers.Dense(num_classes, activation='softmax')(x)\n",
    "    model = Model(inputs=inputs, outputs=outputs)\n",
    "    return model"
   ]
  },
  {
   "cell_type": "code",
   "execution_count": 61,
   "metadata": {},
   "outputs": [
    {
     "name": "stdout",
     "output_type": "stream",
     "text": [
      "Model: \"model_14\"\n",
      "_________________________________________________________________\n",
      " Layer (type)                Output Shape              Param #   \n",
      "=================================================================\n",
      " input_15 (InputLayer)       [(None, 768)]             0         \n",
      "                                                                 \n",
      " dense_45 (Dense)            (None, 512)               393728    \n",
      "                                                                 \n",
      " batch_normalization_1 (Batc  (None, 512)              2048      \n",
      " hNormalization)                                                 \n",
      "                                                                 \n",
      " dense_46 (Dense)            (None, 256)               131328    \n",
      "                                                                 \n",
      " batch_normalization_2 (Batc  (None, 256)              1024      \n",
      " hNormalization)                                                 \n",
      "                                                                 \n",
      " dense_47 (Dense)            (None, 128)               32896     \n",
      "                                                                 \n",
      " batch_normalization_3 (Batc  (None, 128)              512       \n",
      " hNormalization)                                                 \n",
      "                                                                 \n",
      " dense_48 (Dense)            (None, 7)                 903       \n",
      "                                                                 \n",
      "=================================================================\n",
      "Total params: 562,439\n",
      "Trainable params: 560,647\n",
      "Non-trainable params: 1,792\n",
      "_________________________________________________________________\n"
     ]
    }
   ],
   "source": [
    "from sklearn.utils.class_weight import compute_class_weight\n",
    "\n",
    "input_dim = 768\n",
    "num_classes = 7\n",
    "\n",
    "mlp_model = create_mlp(input_dim, num_classes)\n",
    "\n",
    "y_train_integers = np.argmax(y_train_text_onehot, axis=1)\n",
    "\n",
    "mlp_model.compile(optimizer='adam',\n",
    "                  loss='categorical_crossentropy',\n",
    "                  metrics=['accuracy'])\n",
    "\n",
    "mlp_model.summary()\n"
   ]
  },
  {
   "cell_type": "code",
   "execution_count": 40,
   "metadata": {},
   "outputs": [
    {
     "name": "stdout",
     "output_type": "stream",
     "text": [
      "{0: 0.32438238453276047, 1: 0.8335563733690198, 2: 1.0430141287284145, 3: 1.2488721804511278, 4: 5.196037539103233, 5: 4.729947793070717, 6: 1.8044541010320478}\n"
     ]
    }
   ],
   "source": [
    "class_weights = compute_class_weight(class_weight='balanced', \n",
    "                                     classes=np.unique(y_train_integers), \n",
    "                                     y=y_train_integers)\n",
    "d_class_weights = dict(enumerate(class_weights))\n",
    "print(d_class_weights)"
   ]
  },
  {
   "cell_type": "code",
   "execution_count": 62,
   "metadata": {},
   "outputs": [
    {
     "name": "stdout",
     "output_type": "stream",
     "text": [
      "Epoch 1/50\n"
     ]
    },
    {
     "name": "stderr",
     "output_type": "stream",
     "text": [
      "2024-04-15 18:14:16.754136: I tensorflow/core/grappler/optimizers/custom_graph_optimizer_registry.cc:113] Plugin optimizer for device_type GPU is enabled.\n"
     ]
    },
    {
     "name": "stdout",
     "output_type": "stream",
     "text": [
      "312/312 [==============================] - ETA: 0s - loss: 1.9745 - accuracy: 0.2446"
     ]
    },
    {
     "name": "stderr",
     "output_type": "stream",
     "text": [
      "2024-04-15 18:14:27.697752: I tensorflow/core/grappler/optimizers/custom_graph_optimizer_registry.cc:113] Plugin optimizer for device_type GPU is enabled.\n"
     ]
    },
    {
     "name": "stdout",
     "output_type": "stream",
     "text": [
      "312/312 [==============================] - 13s 31ms/step - loss: 1.9745 - accuracy: 0.2446 - val_loss: 1.9768 - val_accuracy: 0.2475\n",
      "Epoch 2/50\n",
      "312/312 [==============================] - 7s 21ms/step - loss: 1.7974 - accuracy: 0.3023 - val_loss: 1.8772 - val_accuracy: 0.2668\n",
      "Epoch 3/50\n",
      "312/312 [==============================] - 6s 21ms/step - loss: 1.7533 - accuracy: 0.3314 - val_loss: 1.7677 - val_accuracy: 0.3284\n",
      "Epoch 4/50\n",
      "312/312 [==============================] - 6s 21ms/step - loss: 1.7202 - accuracy: 0.3432 - val_loss: 1.7796 - val_accuracy: 0.3358\n",
      "Epoch 5/50\n",
      "312/312 [==============================] - 6s 20ms/step - loss: 1.6924 - accuracy: 0.3583 - val_loss: 1.8616 - val_accuracy: 0.3376\n",
      "Epoch 6/50\n",
      "312/312 [==============================] - 7s 21ms/step - loss: 1.6793 - accuracy: 0.3634 - val_loss: 2.0018 - val_accuracy: 0.2272\n",
      "Epoch 7/50\n",
      "312/312 [==============================] - 7s 21ms/step - loss: 1.6516 - accuracy: 0.3647 - val_loss: 2.0030 - val_accuracy: 0.2429\n",
      "Epoch 8/50\n",
      "312/312 [==============================] - 6s 20ms/step - loss: 1.6295 - accuracy: 0.3717 - val_loss: 1.7394 - val_accuracy: 0.3689\n",
      "Epoch 9/50\n",
      "312/312 [==============================] - 7s 21ms/step - loss: 1.6039 - accuracy: 0.3699 - val_loss: 1.6974 - val_accuracy: 0.3330\n",
      "Epoch 10/50\n",
      "312/312 [==============================] - 7s 21ms/step - loss: 1.5805 - accuracy: 0.3874 - val_loss: 2.2271 - val_accuracy: 0.2088\n",
      "Epoch 11/50\n",
      "312/312 [==============================] - 6s 20ms/step - loss: 1.5719 - accuracy: 0.3820 - val_loss: 2.2378 - val_accuracy: 0.1757\n",
      "Epoch 12/50\n",
      "312/312 [==============================] - 6s 20ms/step - loss: 1.5431 - accuracy: 0.3940 - val_loss: 2.0188 - val_accuracy: 0.2125\n",
      "Epoch 13/50\n",
      "312/312 [==============================] - 6s 20ms/step - loss: 1.5221 - accuracy: 0.3883 - val_loss: 2.0193 - val_accuracy: 0.2622\n",
      "Epoch 14/50\n",
      "312/312 [==============================] - 7s 23ms/step - loss: 1.5039 - accuracy: 0.4042 - val_loss: 1.8930 - val_accuracy: 0.2889\n",
      "Epoch 15/50\n",
      "312/312 [==============================] - 7s 22ms/step - loss: 1.4833 - accuracy: 0.4106 - val_loss: 1.8550 - val_accuracy: 0.2695\n",
      "Epoch 16/50\n",
      "312/312 [==============================] - 7s 21ms/step - loss: 1.4667 - accuracy: 0.4048 - val_loss: 2.2067 - val_accuracy: 0.2208\n",
      "Epoch 17/50\n",
      "312/312 [==============================] - 8s 25ms/step - loss: 1.4370 - accuracy: 0.4137 - val_loss: 1.9978 - val_accuracy: 0.2714\n",
      "Epoch 18/50\n",
      "312/312 [==============================] - 7s 21ms/step - loss: 1.4323 - accuracy: 0.4180 - val_loss: 2.0002 - val_accuracy: 0.2843\n",
      "Epoch 19/50\n",
      "312/312 [==============================] - 8s 25ms/step - loss: 1.4050 - accuracy: 0.4198 - val_loss: 2.2832 - val_accuracy: 0.2484\n",
      "Epoch 20/50\n",
      "312/312 [==============================] - 7s 21ms/step - loss: 1.3839 - accuracy: 0.4264 - val_loss: 2.0908 - val_accuracy: 0.2420\n",
      "Epoch 21/50\n",
      "312/312 [==============================] - 7s 22ms/step - loss: 1.3789 - accuracy: 0.4283 - val_loss: 1.9375 - val_accuracy: 0.2861\n",
      "Epoch 22/50\n",
      "312/312 [==============================] - 9s 28ms/step - loss: 1.3545 - accuracy: 0.4321 - val_loss: 1.6505 - val_accuracy: 0.3845\n",
      "Epoch 23/50\n",
      "312/312 [==============================] - 8s 26ms/step - loss: 1.3379 - accuracy: 0.4380 - val_loss: 1.7703 - val_accuracy: 0.3431\n",
      "Epoch 24/50\n",
      "312/312 [==============================] - 8s 25ms/step - loss: 1.3218 - accuracy: 0.4430 - val_loss: 2.1365 - val_accuracy: 0.2695\n",
      "Epoch 25/50\n",
      "312/312 [==============================] - 8s 25ms/step - loss: 1.2722 - accuracy: 0.4512 - val_loss: 1.8123 - val_accuracy: 0.3229\n",
      "Epoch 26/50\n",
      "312/312 [==============================] - 8s 25ms/step - loss: 1.2534 - accuracy: 0.4574 - val_loss: 1.7203 - val_accuracy: 0.4075\n",
      "Epoch 27/50\n",
      "312/312 [==============================] - 8s 25ms/step - loss: 1.2397 - accuracy: 0.4598 - val_loss: 1.8988 - val_accuracy: 0.3689\n",
      "Epoch 28/50\n",
      "312/312 [==============================] - 7s 24ms/step - loss: 1.2465 - accuracy: 0.4531 - val_loss: 1.9222 - val_accuracy: 0.3606\n",
      "Epoch 29/50\n",
      "312/312 [==============================] - 7s 23ms/step - loss: 1.2137 - accuracy: 0.4604 - val_loss: 2.0057 - val_accuracy: 0.3008\n",
      "Epoch 30/50\n",
      "312/312 [==============================] - 7s 23ms/step - loss: 1.1944 - accuracy: 0.4725 - val_loss: 2.2816 - val_accuracy: 0.2613\n",
      "Epoch 31/50\n",
      "312/312 [==============================] - 7s 24ms/step - loss: 1.1707 - accuracy: 0.4793 - val_loss: 1.7987 - val_accuracy: 0.3707\n",
      "Epoch 32/50\n",
      "312/312 [==============================] - 7s 24ms/step - loss: 1.1657 - accuracy: 0.4780 - val_loss: 1.9740 - val_accuracy: 0.3763\n",
      "Epoch 33/50\n",
      "312/312 [==============================] - 7s 23ms/step - loss: 1.1282 - accuracy: 0.4901 - val_loss: 1.8454 - val_accuracy: 0.3790\n",
      "Epoch 34/50\n",
      "312/312 [==============================] - 7s 23ms/step - loss: 1.1118 - accuracy: 0.5037 - val_loss: 1.8063 - val_accuracy: 0.3726\n",
      "Epoch 35/50\n",
      "312/312 [==============================] - 8s 25ms/step - loss: 1.0944 - accuracy: 0.4954 - val_loss: 1.9948 - val_accuracy: 0.3312\n",
      "Epoch 36/50\n",
      "312/312 [==============================] - 7s 23ms/step - loss: 1.0828 - accuracy: 0.5007 - val_loss: 1.8774 - val_accuracy: 0.3551\n",
      "Epoch 37/50\n",
      "312/312 [==============================] - 7s 22ms/step - loss: 1.0896 - accuracy: 0.5048 - val_loss: 2.1122 - val_accuracy: 0.3919\n",
      "Epoch 38/50\n",
      "312/312 [==============================] - 8s 25ms/step - loss: 1.0355 - accuracy: 0.5143 - val_loss: 1.9158 - val_accuracy: 0.3763\n",
      "Epoch 39/50\n",
      "312/312 [==============================] - 7s 22ms/step - loss: 1.0133 - accuracy: 0.5245 - val_loss: 1.9449 - val_accuracy: 0.3367\n",
      "Epoch 40/50\n",
      "312/312 [==============================] - 7s 23ms/step - loss: 1.0011 - accuracy: 0.5222 - val_loss: 1.7888 - val_accuracy: 0.4416\n",
      "Epoch 41/50\n",
      "312/312 [==============================] - 8s 25ms/step - loss: 0.9928 - accuracy: 0.5339 - val_loss: 2.5773 - val_accuracy: 0.2613\n",
      "Epoch 42/50\n",
      "312/312 [==============================] - 7s 22ms/step - loss: 0.9877 - accuracy: 0.5188 - val_loss: 2.1625 - val_accuracy: 0.3146\n",
      "Epoch 43/50\n",
      "312/312 [==============================] - 8s 24ms/step - loss: 0.9602 - accuracy: 0.5365 - val_loss: 2.0326 - val_accuracy: 0.3597\n",
      "Epoch 44/50\n",
      "312/312 [==============================] - 7s 23ms/step - loss: 0.9600 - accuracy: 0.5388 - val_loss: 1.9028 - val_accuracy: 0.3680\n",
      "Epoch 45/50\n",
      "312/312 [==============================] - 6s 20ms/step - loss: 0.9317 - accuracy: 0.5526 - val_loss: 2.4908 - val_accuracy: 0.2981\n",
      "Epoch 46/50\n",
      "312/312 [==============================] - 7s 22ms/step - loss: 0.9146 - accuracy: 0.5523 - val_loss: 2.2668 - val_accuracy: 0.3211\n",
      "Epoch 47/50\n",
      "312/312 [==============================] - 7s 21ms/step - loss: 0.8930 - accuracy: 0.5666 - val_loss: 2.1416 - val_accuracy: 0.3588\n",
      "Epoch 48/50\n",
      "312/312 [==============================] - 7s 22ms/step - loss: 0.9109 - accuracy: 0.5523 - val_loss: 2.1143 - val_accuracy: 0.3588\n",
      "Epoch 49/50\n",
      "312/312 [==============================] - 7s 23ms/step - loss: 0.9322 - accuracy: 0.5561 - val_loss: 2.3009 - val_accuracy: 0.2944\n",
      "Epoch 50/50\n",
      "312/312 [==============================] - 7s 21ms/step - loss: 0.8914 - accuracy: 0.5660 - val_loss: 2.0630 - val_accuracy: 0.3634\n"
     ]
    }
   ],
   "source": [
    "history = mlp_model.fit(x=pool_embs_train, \n",
    "                        y=y_train_text_onehot, \n",
    "                        validation_data=(pool_embs_val, y_val_text_onehot),\n",
    "                        batch_size=32,\n",
    "                        epochs=50,\n",
    "                        class_weight=d_class_weights)"
   ]
  },
  {
   "cell_type": "markdown",
   "metadata": {},
   "source": [
    "## results"
   ]
  },
  {
   "cell_type": "code",
   "execution_count": 57,
   "metadata": {},
   "outputs": [
    {
     "data": {
      "image/png": "[encoded data removed]",
      "text/plain": [
       "<Figure size 640x480 with 1 Axes>"
      ]
     },
     "metadata": {},
     "output_type": "display_data"
    },
    {
     "data": {
      "image/png": "[encoded data removed]",
      "text/plain": [
       "<Figure size 640x480 with 1 Axes>"
      ]
     },
     "metadata": {},
     "output_type": "display_data"
    }
   ],
   "source": [
    "import matplotlib.pyplot as plt\n",
    "\n",
    "def plot_graphs(history, metric):\n",
    "  plt.plot(history.history[metric])\n",
    "  plt.plot(history.history['val_'+metric], '')\n",
    "  plt.xlabel(\"Epochs\")\n",
    "  plt.ylabel(metric)\n",
    "  plt.legend([metric, 'val_'+metric])\n",
    "  plt.show()\n",
    "  \n",
    "plot_graphs(history,'loss')\n",
    "plot_graphs(history,'accuracy')"
   ]
  },
  {
   "cell_type": "markdown",
   "metadata": {},
   "source": [
    "# GRU with all text embeddings"
   ]
  },
  {
   "cell_type": "code",
   "execution_count": 78,
   "metadata": {},
   "outputs": [],
   "source": [
    "from tensorflow.keras import layers \n",
    "from tensorflow.keras.models import Model\n",
    "\n",
    "def create_gru_model(input_shape, num_classes):\n",
    "    inputs = layers.Input(shape=input_shape)\n",
    "    \n",
    "    x = layers.Bidirectional(layers.GRU(256, return_sequences=True))(inputs)\n",
    "    x = layers.Bidirectional(layers.GRU(128))(x)\n",
    "    \n",
    "    x = layers.Dropout(0.5)(x)\n",
    "\n",
    "    #x = layers.Dense(512, activation='relu')(x)\n",
    "\n",
    "    x = layers.Dense(256, activation='relu')(x)\n",
    "    \n",
    "    x = layers.Dropout(0.5)(x)\n",
    "    x = layers.Dense(128, activation='relu')(x)\n",
    "    x = layers.BatchNormalization()(x)\n",
    "    \n",
    "    outputs = layers.Dense(num_classes, activation='softmax')(x)\n",
    "    \n",
    "    # Create model\n",
    "    model = Model(inputs=inputs, outputs=outputs)\n",
    "    return model\n"
   ]
  },
  {
   "cell_type": "code",
   "execution_count": 79,
   "metadata": {},
   "outputs": [
    {
     "name": "stdout",
     "output_type": "stream",
     "text": [
      "Epoch 1/15\n"
     ]
    },
    {
     "name": "stderr",
     "output_type": "stream",
     "text": [
      "2024-04-15 20:10:22.232689: I tensorflow/core/grappler/optimizers/custom_graph_optimizer_registry.cc:113] Plugin optimizer for device_type GPU is enabled.\n",
      "2024-04-15 20:10:23.220112: I tensorflow/core/grappler/optimizers/custom_graph_optimizer_registry.cc:113] Plugin optimizer for device_type GPU is enabled.\n",
      "2024-04-15 20:10:23.283651: I tensorflow/core/grappler/optimizers/custom_graph_optimizer_registry.cc:113] Plugin optimizer for device_type GPU is enabled.\n",
      "2024-04-15 20:10:30.862900: I tensorflow/core/grappler/optimizers/custom_graph_optimizer_registry.cc:113] Plugin optimizer for device_type GPU is enabled.\n",
      "2024-04-15 20:10:30.902685: I tensorflow/core/grappler/optimizers/custom_graph_optimizer_registry.cc:113] Plugin optimizer for device_type GPU is enabled.\n",
      "2024-04-15 20:10:38.573853: I tensorflow/core/grappler/optimizers/custom_graph_optimizer_registry.cc:113] Plugin optimizer for device_type GPU is enabled.\n",
      "2024-04-15 20:10:38.594561: I tensorflow/core/grappler/optimizers/custom_graph_optimizer_registry.cc:113] Plugin optimizer for device_type GPU is enabled.\n",
      "2024-04-15 20:10:42.282000: I tensorflow/core/grappler/optimizers/custom_graph_optimizer_registry.cc:113] Plugin optimizer for device_type GPU is enabled.\n",
      "2024-04-15 20:10:42.303414: I tensorflow/core/grappler/optimizers/custom_graph_optimizer_registry.cc:113] Plugin optimizer for device_type GPU is enabled.\n"
     ]
    },
    {
     "name": "stdout",
     "output_type": "stream",
     "text": [
      "312/312 [==============================] - ETA: 0s - loss: 2.0548 - accuracy: 0.2053"
     ]
    },
    {
     "name": "stderr",
     "output_type": "stream",
     "text": [
      "2024-04-15 20:12:10.025786: I tensorflow/core/grappler/optimizers/custom_graph_optimizer_registry.cc:113] Plugin optimizer for device_type GPU is enabled.\n",
      "2024-04-15 20:12:10.523511: I tensorflow/core/grappler/optimizers/custom_graph_optimizer_registry.cc:113] Plugin optimizer for device_type GPU is enabled.\n",
      "2024-04-15 20:12:10.595199: I tensorflow/core/grappler/optimizers/custom_graph_optimizer_registry.cc:113] Plugin optimizer for device_type GPU is enabled.\n",
      "2024-04-15 20:12:18.178593: I tensorflow/core/grappler/optimizers/custom_graph_optimizer_registry.cc:113] Plugin optimizer for device_type GPU is enabled.\n",
      "2024-04-15 20:12:18.203654: I tensorflow/core/grappler/optimizers/custom_graph_optimizer_registry.cc:113] Plugin optimizer for device_type GPU is enabled.\n"
     ]
    },
    {
     "name": "stdout",
     "output_type": "stream",
     "text": [
      "312/312 [==============================] - 159s 376ms/step - loss: 2.0548 - accuracy: 0.2053 - val_loss: 1.8772 - val_accuracy: 0.2714\n",
      "Epoch 2/15\n",
      "312/312 [==============================] - 57s 180ms/step - loss: 1.8613 - accuracy: 0.2823 - val_loss: 1.6802 - val_accuracy: 0.3597\n",
      "Epoch 3/15\n",
      "312/312 [==============================] - 58s 185ms/step - loss: 1.7766 - accuracy: 0.3359 - val_loss: 1.6278 - val_accuracy: 0.4002\n",
      "Epoch 4/15\n",
      "312/312 [==============================] - 60s 191ms/step - loss: 1.7280 - accuracy: 0.3738 - val_loss: 1.6847 - val_accuracy: 0.3542\n",
      "Epoch 5/15\n",
      "312/312 [==============================] - 74s 238ms/step - loss: 1.6722 - accuracy: 0.3716 - val_loss: 1.6583 - val_accuracy: 0.3597\n",
      "Epoch 6/15\n",
      "312/312 [==============================] - 81s 258ms/step - loss: 1.6098 - accuracy: 0.3862 - val_loss: 1.5744 - val_accuracy: 0.4204\n",
      "Epoch 7/15\n",
      "312/312 [==============================] - 64s 204ms/step - loss: 1.5967 - accuracy: 0.4020 - val_loss: 1.5539 - val_accuracy: 0.4195\n",
      "Epoch 8/15\n",
      "312/312 [==============================] - 65s 207ms/step - loss: 1.5400 - accuracy: 0.4073 - val_loss: 1.7565 - val_accuracy: 0.3229\n",
      "Epoch 9/15\n",
      "312/312 [==============================] - 73s 233ms/step - loss: 1.4907 - accuracy: 0.4282 - val_loss: 1.5774 - val_accuracy: 0.4158\n",
      "Epoch 10/15\n",
      "312/312 [==============================] - 78s 251ms/step - loss: 1.4297 - accuracy: 0.4372 - val_loss: 1.5656 - val_accuracy: 0.4121\n",
      "Epoch 11/15\n",
      "312/312 [==============================] - 74s 235ms/step - loss: 1.3831 - accuracy: 0.4494 - val_loss: 1.7031 - val_accuracy: 0.3735\n",
      "Epoch 12/15\n",
      "312/312 [==============================] - 79s 254ms/step - loss: 1.3255 - accuracy: 0.4677 - val_loss: 1.7323 - val_accuracy: 0.3772\n",
      "Epoch 13/15\n",
      "312/312 [==============================] - 80s 253ms/step - loss: 1.2709 - accuracy: 0.4846 - val_loss: 1.6355 - val_accuracy: 0.4066\n",
      "Epoch 14/15\n",
      "312/312 [==============================] - 72s 231ms/step - loss: 1.1893 - accuracy: 0.5144 - val_loss: 1.7822 - val_accuracy: 0.3533\n",
      "Epoch 15/15\n",
      "312/312 [==============================] - 82s 263ms/step - loss: 1.1515 - accuracy: 0.5174 - val_loss: 1.6905 - val_accuracy: 0.3671\n"
     ]
    }
   ],
   "source": [
    "bert_output_dim = 768\n",
    "\n",
    "input_shape = (max_seq_length, bert_output_dim)  \n",
    "num_classes = 7 \n",
    "\n",
    "gru_model = create_gru_model(input_shape, num_classes)\n",
    "\n",
    "gru_model.compile(optimizer='adam',\n",
    "              loss='categorical_crossentropy',\n",
    "              metrics=['accuracy'])\n",
    "\n",
    "\n",
    "gru_history = gru_model.fit(all_embs_train, \n",
    "                            y_train_text_onehot, \n",
    "                            batch_size=32, \n",
    "                            epochs=15, \n",
    "                            validation_data=(\n",
    "                                all_embs_val, \n",
    "                                y_val_text_onehot),\n",
    "                            class_weight=d_class_weights\n",
    "                            )"
   ]
  },
  {
   "cell_type": "markdown",
   "metadata": {},
   "source": [
    "## results"
   ]
  },
  {
   "cell_type": "code",
   "execution_count": 88,
   "metadata": {},
   "outputs": [
    {
     "data": {
      "image/png": "[encoded data removed]",
      "text/plain": [
       "<Figure size 640x480 with 1 Axes>"
      ]
     },
     "metadata": {},
     "output_type": "display_data"
    },
    {
     "data": {
      "image/png": "[encoded data removed]",
      "text/plain": [
       "<Figure size 640x480 with 1 Axes>"
      ]
     },
     "metadata": {},
     "output_type": "display_data"
    }
   ],
   "source": [
    "import matplotlib.pyplot as plt\n",
    "\n",
    "def plot_graphs(history, metric):\n",
    "  plt.plot(history.history[metric])\n",
    "  plt.plot(history.history['val_'+metric], '')\n",
    "  plt.xlabel(\"Epochs\")\n",
    "  plt.ylabel(metric)\n",
    "  plt.legend([metric, 'val_'+metric])\n",
    "  plt.show()\n",
    "  \n",
    "plot_graphs(gru_history,'loss')\n",
    "plot_graphs(gru_history,'accuracy')"
   ]
  },
  {
   "cell_type": "markdown",
   "metadata": {},
   "source": [
    "# Speaker info"
   ]
  },
  {
   "cell_type": "code",
   "execution_count": 143,
   "metadata": {},
   "outputs": [],
   "source": [
    "class CrossAttentionLayer(layers.Layer):\n",
    "    def __init__(self, num_heads, key_dim, **kwargs):\n",
    "        super(CrossAttentionLayer, self).__init__(**kwargs)\n",
    "        self.num_heads = num_heads\n",
    "        self.key_dim = key_dim\n",
    "\n",
    "    def build(self, input_shape):\n",
    "        self.query = layers.Dense(self.key_dim)\n",
    "        self.key = layers.Dense(self.key_dim)\n",
    "        self.value = layers.Dense(self.key_dim)\n",
    "        self.mha = layers.MultiHeadAttention(\n",
    "            num_heads=self.num_heads,\n",
    "            key_dim=self.key_dim // self.num_heads\n",
    "        )\n",
    "\n",
    "    def call(self, inputs):\n",
    "        text_embeddings, speaker_embedding = inputs\n",
    "\n",
    "        query = tf.expand_dims(self.query(speaker_embedding), axis=1)\n",
    "        key = tf.expand_dims(self.key(text_embeddings), axis=1)\n",
    "        value = tf.expand_dims(self.value(text_embeddings), axis=1)\n",
    "\n",
    "        attention_output = self.mha(query=query, value=value, key=key)\n",
    "        return attention_output\n",
    "\n",
    "    def compute_output_shape(self, input_shape):\n",
    "        return input_shape[0][0], input_shape[0][1], self.key_dim"
   ]
  },
  {
   "cell_type": "code",
   "execution_count": 145,
   "metadata": {},
   "outputs": [],
   "source": [
    "num_heads = 8\n",
    "key_dim = 64\n",
    "#speaker_embed_dim = 64\n",
    "\n",
    "def create_speaker_model(bert_output_dim, num_classes, num_speakers):\n",
    "    text_input = layers.Input(shape=(bert_output_dim,))\n",
    "    speaker_input = layers.Input(shape=(1,))\n",
    "    inputs = (text_input, speaker_input)\n",
    "\n",
    "    \n",
    "\n",
    "    #reduced_text_input = layers.Dense(key_dim)(text_input)\n",
    "    \n",
    "    speaker_embedding = layers.Embedding(\n",
    "        input_dim=num_speakers, \n",
    "        output_dim=key_dim\n",
    "        )(speaker_input)\n",
    "    speaker_embedding = layers.Flatten()(speaker_embedding)\n",
    "\n",
    "    #cross_attention = CrossAttentionLayer(\n",
    "    #    num_heads=num_heads, \n",
    "    #    key_dim=key_dim)([reduced_text_input, speaker_embedding])\n",
    "    \n",
    "    #flat_cross_attention = layers.Flatten()(cross_attention)\n",
    "\n",
    "    #x = layers.Dense(512, activation='relu')(flat_cross_attention)\n",
    "\n",
    "    combined_features = layers.Concatenate()([text_input, speaker_embedding])\n",
    "\n",
    "    x = layers.Dense(512, activation='relu')(combined_features)\n",
    "    x = layers.BatchNormalization()(x)\n",
    "    #x = layers.Dropout(0.5)(x)\n",
    "    \n",
    "    x = layers.Dense(256, activation='relu')(x)\n",
    "    x = layers.BatchNormalization()(x)\n",
    "    #x = layers.Dropout(0.5)(x)\n",
    "    \n",
    "    x = layers.Dense(128, activation='relu')(x)\n",
    "    x = layers.BatchNormalization()(x)\n",
    "    #x = layers.Dropout(0.5)(x)\n",
    "    \n",
    "    outputs = layers.Dense(num_classes, activation='softmax')(x)\n",
    "    model = Model(inputs=inputs, outputs=outputs)\n",
    "\n",
    "    return model\n"
   ]
  },
  {
   "cell_type": "code",
   "execution_count": 146,
   "metadata": {},
   "outputs": [
    {
     "name": "stdout",
     "output_type": "stream",
     "text": [
      "Model: \"model_21\"\n",
      "__________________________________________________________________________________________________\n",
      " Layer (type)                   Output Shape         Param #     Connected to                     \n",
      "==================================================================================================\n",
      " input_58 (InputLayer)          [(None, 1)]          0           []                               \n",
      "                                                                                                  \n",
      " embedding_16 (Embedding)       (None, 1, 64)        16960       ['input_58[0][0]']               \n",
      "                                                                                                  \n",
      " input_57 (InputLayer)          [(None, 768)]        0           []                               \n",
      "                                                                                                  \n",
      " flatten_15 (Flatten)           (None, 64)           0           ['embedding_16[0][0]']           \n",
      "                                                                                                  \n",
      " concatenate (Concatenate)      (None, 832)          0           ['input_57[0][0]',               \n",
      "                                                                  'flatten_15[0][0]']             \n",
      "                                                                                                  \n",
      " dense_78 (Dense)               (None, 512)          426496      ['concatenate[0][0]']            \n",
      "                                                                                                  \n",
      " batch_normalization_10 (BatchN  (None, 512)         2048        ['dense_78[0][0]']               \n",
      " ormalization)                                                                                    \n",
      "                                                                                                  \n",
      " dense_79 (Dense)               (None, 256)          131328      ['batch_normalization_10[0][0]'] \n",
      "                                                                                                  \n",
      " batch_normalization_11 (BatchN  (None, 256)         1024        ['dense_79[0][0]']               \n",
      " ormalization)                                                                                    \n",
      "                                                                                                  \n",
      " dense_80 (Dense)               (None, 128)          32896       ['batch_normalization_11[0][0]'] \n",
      "                                                                                                  \n",
      " batch_normalization_12 (BatchN  (None, 128)         512         ['dense_80[0][0]']               \n",
      " ormalization)                                                                                    \n",
      "                                                                                                  \n",
      " dense_81 (Dense)               (None, 7)            903         ['batch_normalization_12[0][0]'] \n",
      "                                                                                                  \n",
      "==================================================================================================\n",
      "Total params: 612,167\n",
      "Trainable params: 610,375\n",
      "Non-trainable params: 1,792\n",
      "__________________________________________________________________________________________________\n"
     ]
    }
   ],
   "source": [
    "bert_output_dim = 768\n",
    "num_classes = 7\n",
    "num_speakers = len(np.unique(X_train_speaker))\n",
    "\n",
    "speaker_model = create_speaker_model(bert_output_dim, num_classes, num_speakers)\n",
    "\n",
    "speaker_model.compile(optimizer='adam',\n",
    "                  loss='categorical_crossentropy',\n",
    "                  metrics=['accuracy'])\n",
    "\n",
    "speaker_model.summary()"
   ]
  },
  {
   "cell_type": "markdown",
   "metadata": {},
   "source": [
    "prepare speaker labels"
   ]
  },
  {
   "cell_type": "code",
   "execution_count": 188,
   "metadata": {},
   "outputs": [],
   "source": [
    "speaker_mapping = {label: idx for idx, label in enumerate(np.unique(X_train_speaker))}\n",
    "\n",
    "X_train_speaker_encoded = np.array([speaker_mapping[label] for label in X_train_speaker])\n",
    "X_val_speaker_encoded = np.array([speaker_mapping.get(label, -1) for label in X_val_speaker])  \n",
    "X_test_speaker_encoded = np.array([speaker_mapping.get(label, -1) for label in X_test_speaker]) \n"
   ]
  },
  {
   "cell_type": "code",
   "execution_count": 147,
   "metadata": {},
   "outputs": [
    {
     "name": "stdout",
     "output_type": "stream",
     "text": [
      "Epoch 1/30\n"
     ]
    },
    {
     "name": "stderr",
     "output_type": "stream",
     "text": [
      "2024-04-15 22:08:13.344849: I tensorflow/core/grappler/optimizers/custom_graph_optimizer_registry.cc:113] Plugin optimizer for device_type GPU is enabled.\n"
     ]
    },
    {
     "name": "stdout",
     "output_type": "stream",
     "text": [
      "312/312 [==============================] - ETA: 0s - loss: 1.9645 - accuracy: 0.2532"
     ]
    },
    {
     "name": "stderr",
     "output_type": "stream",
     "text": [
      "2024-04-15 22:08:25.001554: I tensorflow/core/grappler/optimizers/custom_graph_optimizer_registry.cc:113] Plugin optimizer for device_type GPU is enabled.\n"
     ]
    },
    {
     "name": "stdout",
     "output_type": "stream",
     "text": [
      "312/312 [==============================] - 14s 35ms/step - loss: 1.9645 - accuracy: 0.2532 - val_loss: 1.7384 - val_accuracy: 0.3661\n",
      "Epoch 2/30\n",
      "312/312 [==============================] - 9s 29ms/step - loss: 1.7971 - accuracy: 0.3142 - val_loss: 1.8153 - val_accuracy: 0.2999\n",
      "Epoch 3/30\n",
      "312/312 [==============================] - 8s 27ms/step - loss: 1.7377 - accuracy: 0.3540 - val_loss: 1.9466 - val_accuracy: 0.2429\n",
      "Epoch 4/30\n",
      "312/312 [==============================] - 8s 25ms/step - loss: 1.6936 - accuracy: 0.3539 - val_loss: 1.8778 - val_accuracy: 0.2732\n",
      "Epoch 5/30\n",
      "312/312 [==============================] - 7s 23ms/step - loss: 1.6520 - accuracy: 0.3711 - val_loss: 1.8405 - val_accuracy: 0.2695\n",
      "Epoch 6/30\n",
      "312/312 [==============================] - 8s 25ms/step - loss: 1.6088 - accuracy: 0.3856 - val_loss: 1.7752 - val_accuracy: 0.3128\n",
      "Epoch 7/30\n",
      "312/312 [==============================] - 8s 26ms/step - loss: 1.5810 - accuracy: 0.3905 - val_loss: 1.6646 - val_accuracy: 0.4434\n",
      "Epoch 8/30\n",
      "312/312 [==============================] - 8s 24ms/step - loss: 1.5529 - accuracy: 0.4054 - val_loss: 1.5177 - val_accuracy: 0.4821\n",
      "Epoch 9/30\n",
      "312/312 [==============================] - 8s 27ms/step - loss: 1.5081 - accuracy: 0.4181 - val_loss: 1.6407 - val_accuracy: 0.3910\n",
      "Epoch 10/30\n",
      "312/312 [==============================] - 8s 24ms/step - loss: 1.4907 - accuracy: 0.4082 - val_loss: 1.8287 - val_accuracy: 0.3146\n",
      "Epoch 11/30\n",
      "312/312 [==============================] - 7s 24ms/step - loss: 1.4810 - accuracy: 0.4218 - val_loss: 1.8632 - val_accuracy: 0.2852\n",
      "Epoch 12/30\n",
      "312/312 [==============================] - 8s 25ms/step - loss: 1.4604 - accuracy: 0.4053 - val_loss: 1.9608 - val_accuracy: 0.2971\n",
      "Epoch 13/30\n",
      "312/312 [==============================] - 8s 24ms/step - loss: 1.4382 - accuracy: 0.4362 - val_loss: 1.6585 - val_accuracy: 0.3753\n",
      "Epoch 14/30\n",
      "312/312 [==============================] - 8s 25ms/step - loss: 1.3890 - accuracy: 0.4361 - val_loss: 1.9707 - val_accuracy: 0.3349\n",
      "Epoch 15/30\n",
      "312/312 [==============================] - 8s 25ms/step - loss: 1.3976 - accuracy: 0.4388 - val_loss: 2.0094 - val_accuracy: 0.2649\n",
      "Epoch 16/30\n",
      "312/312 [==============================] - 8s 24ms/step - loss: 1.3739 - accuracy: 0.4378 - val_loss: 1.8413 - val_accuracy: 0.3183\n",
      "Epoch 17/30\n",
      "312/312 [==============================] - 8s 26ms/step - loss: 1.3469 - accuracy: 0.4503 - val_loss: 1.9488 - val_accuracy: 0.2824\n",
      "Epoch 18/30\n",
      "312/312 [==============================] - 8s 24ms/step - loss: 1.3216 - accuracy: 0.4535 - val_loss: 2.1161 - val_accuracy: 0.2594\n",
      "Epoch 19/30\n",
      "312/312 [==============================] - 8s 24ms/step - loss: 1.3155 - accuracy: 0.4539 - val_loss: 1.8921 - val_accuracy: 0.4149\n",
      "Epoch 20/30\n",
      "312/312 [==============================] - 8s 25ms/step - loss: 1.2933 - accuracy: 0.4611 - val_loss: 1.8880 - val_accuracy: 0.4149\n",
      "Epoch 21/30\n",
      "312/312 [==============================] - 7s 23ms/step - loss: 1.2571 - accuracy: 0.4662 - val_loss: 2.1330 - val_accuracy: 0.2787\n",
      "Epoch 22/30\n",
      "312/312 [==============================] - 8s 25ms/step - loss: 1.2446 - accuracy: 0.4719 - val_loss: 1.8066 - val_accuracy: 0.3735\n",
      "Epoch 23/30\n",
      "312/312 [==============================] - 7s 23ms/step - loss: 1.2245 - accuracy: 0.4804 - val_loss: 1.8582 - val_accuracy: 0.3735\n",
      "Epoch 24/30\n",
      "312/312 [==============================] - 8s 24ms/step - loss: 1.1858 - accuracy: 0.4775 - val_loss: 2.0956 - val_accuracy: 0.3027\n",
      "Epoch 25/30\n",
      "312/312 [==============================] - 9s 27ms/step - loss: 1.1638 - accuracy: 0.4913 - val_loss: 1.7098 - val_accuracy: 0.4121\n",
      "Epoch 26/30\n",
      "312/312 [==============================] - 8s 24ms/step - loss: 1.1540 - accuracy: 0.4966 - val_loss: 2.3093 - val_accuracy: 0.2548\n",
      "Epoch 27/30\n",
      "312/312 [==============================] - 9s 29ms/step - loss: 1.1436 - accuracy: 0.5037 - val_loss: 1.9826 - val_accuracy: 0.3505\n",
      "Epoch 28/30\n",
      "312/312 [==============================] - 7s 24ms/step - loss: 1.0955 - accuracy: 0.5050 - val_loss: 1.8184 - val_accuracy: 0.4002\n",
      "Epoch 29/30\n",
      "312/312 [==============================] - 8s 25ms/step - loss: 1.1002 - accuracy: 0.5138 - val_loss: 1.9706 - val_accuracy: 0.3634\n",
      "Epoch 30/30\n",
      "312/312 [==============================] - 7s 24ms/step - loss: 1.0824 - accuracy: 0.5181 - val_loss: 1.9596 - val_accuracy: 0.3339\n"
     ]
    }
   ],
   "source": [
    "speaker_history = speaker_model.fit(\n",
    "    x=(pool_embs_train, X_train_speaker_encoded), \n",
    "    y=y_train_text_onehot, \n",
    "    validation_data=((pool_embs_val, X_val_speaker_encoded), \n",
    "                     y_val_text_onehot),\n",
    "    batch_size=32,\n",
    "    epochs=30,\n",
    "    class_weight=d_class_weights)"
   ]
  },
  {
   "cell_type": "markdown",
   "metadata": {},
   "source": [
    "results"
   ]
  },
  {
   "cell_type": "code",
   "execution_count": 149,
   "metadata": {},
   "outputs": [
    {
     "data": {
      "image/png": "[encoded data removed]",
      "text/plain": [
       "<Figure size 640x480 with 1 Axes>"
      ]
     },
     "metadata": {},
     "output_type": "display_data"
    },
    {
     "data": {
      "image/png": "[encoded data removed]",
      "text/plain": [
       "<Figure size 640x480 with 1 Axes>"
      ]
     },
     "metadata": {},
     "output_type": "display_data"
    }
   ],
   "source": [
    "import matplotlib.pyplot as plt\n",
    "\n",
    "def plot_graphs(history, metric):\n",
    "  plt.plot(history.history[metric])\n",
    "  plt.plot(history.history['val_'+metric], '')\n",
    "  plt.xlabel(\"Epochs\")\n",
    "  plt.ylabel(metric)\n",
    "  plt.legend([metric, 'val_'+metric])\n",
    "  plt.show()\n",
    "  \n",
    "plot_graphs(speaker_history,'loss')\n",
    "plot_graphs(speaker_history,'accuracy')"
   ]
  },
  {
   "cell_type": "markdown",
   "metadata": {},
   "source": [
    "# Text-Audio with Cross-Attention"
   ]
  },
  {
   "cell_type": "code",
   "execution_count": 190,
   "metadata": {},
   "outputs": [],
   "source": [
    "class CrossAttention(tf.keras.layers.Layer):\n",
    "    def __init__(self, **kwargs):\n",
    "        super().__init__()\n",
    "        self.mha = tf.keras.layers.MultiHeadAttention(**kwargs)\n",
    "        self.add = tf.keras.layers.Add()\n",
    "        self.layernorm = tf.keras.layers.LayerNormalization()\n",
    "\n",
    "    def call(self, x, y, **kwargs):\n",
    "        attn, attention_scores = self.mha(\n",
    "            query=x, value=y,\n",
    "            return_attention_scores=True\n",
    "        )\n",
    "\n",
    "        self.last_attention_scores = attention_scores\n",
    "\n",
    "        x = self.add([x, attn])\n",
    "        return self.layernorm(x)"
   ]
  },
  {
   "cell_type": "code",
   "execution_count": 232,
   "metadata": {},
   "outputs": [],
   "source": [
    "def create_crossattention_model(bert_output_dim, audio_output_dim, num_classes, num_heads, key_dim):\n",
    "    audio_x, audio_y, num_channels = audio_output_dim\n",
    "    text_input = layers.Input(shape=(bert_output_dim,))\n",
    "    audio_input = layers.Input(shape=(audio_x, audio_y, num_channels,))\n",
    "\n",
    "    audio_conv = layers.Conv2D(filters=64, kernel_size=(3, 3), activation='relu')(audio_input)\n",
    "    audio_pool = tf.keras.layers.GlobalAveragePooling2D()(audio_conv)\n",
    "\n",
    "    audio_pool_reshaped = tf.keras.layers.Reshape((1, -1))(audio_pool)\n",
    "    text_input_reshaped = tf.keras.layers.Reshape((1, -1))(text_input)\n",
    "\n",
    "    text_to_audio_attention = CrossAttention(\n",
    "        num_heads=num_heads,\n",
    "        key_dim=key_dim\n",
    "    )(x=text_input_reshaped, y=audio_pool_reshaped)\n",
    "\n",
    "    audio_to_text_attention = CrossAttention(\n",
    "        num_heads=num_heads,\n",
    "        key_dim=key_dim\n",
    "    )(x=audio_pool_reshaped, y=text_input_reshaped)\n",
    "\n",
    "    concatenated_attention = layers.Concatenate()([text_to_audio_attention, audio_to_text_attention])\n",
    "    _, _, num_features = concatenated_attention.shape\n",
    "    reshaped_attn = tf.keras.layers.Reshape((-1,))(concatenated_attention)\n",
    "\n",
    "    x = layers.Dense(512, activation='relu')(reshaped_attn)\n",
    "    x = layers.BatchNormalization()(x)\n",
    "    x = layers.Dense(256, activation='relu')(x)\n",
    "    x = layers.BatchNormalization()(x)\n",
    "    x = layers.Dense(128, activation='relu')(x)\n",
    "    x = layers.BatchNormalization()(x)\n",
    "    outputs = layers.Dense(num_classes, activation='softmax')(x)\n",
    "\n",
    "    model = Model(inputs=[text_input, audio_input], outputs=outputs)\n",
    "    return model"
   ]
  },
  {
   "cell_type": "code",
   "execution_count": 233,
   "metadata": {},
   "outputs": [
    {
     "name": "stdout",
     "output_type": "stream",
     "text": [
      "Model: \"model_30\"\n",
      "__________________________________________________________________________________________________\n",
      " Layer (type)                   Output Shape         Param #     Connected to                     \n",
      "==================================================================================================\n",
      " input_96 (InputLayer)          [(None, 128, 128, 1  0           []                               \n",
      "                                )]                                                                \n",
      "                                                                                                  \n",
      " conv2d_16 (Conv2D)             (None, 126, 126, 64  640         ['input_96[0][0]']               \n",
      "                                )                                                                 \n",
      "                                                                                                  \n",
      " input_95 (InputLayer)          [(None, 768)]        0           []                               \n",
      "                                                                                                  \n",
      " global_average_pooling2d_11 (G  (None, 64)          0           ['conv2d_16[0][0]']              \n",
      " lobalAveragePooling2D)                                                                           \n",
      "                                                                                                  \n",
      " reshape_21 (Reshape)           (None, 1, 768)       0           ['input_95[0][0]']               \n",
      "                                                                                                  \n",
      " reshape_20 (Reshape)           (None, 1, 64)        0           ['global_average_pooling2d_11[0][\n",
      "                                                                 0]']                             \n",
      "                                                                                                  \n",
      " cross_attention_24 (CrossAtten  (None, 1, 768)      855808      ['reshape_21[0][0]',             \n",
      " tion)                                                            'reshape_20[0][0]']             \n",
      "                                                                                                  \n",
      " cross_attention_25 (CrossAtten  (None, 1, 64)       853696      ['reshape_20[0][0]',             \n",
      " tion)                                                            'reshape_21[0][0]']             \n",
      "                                                                                                  \n",
      " concatenate_10 (Concatenate)   (None, 1, 832)       0           ['cross_attention_24[0][0]',     \n",
      "                                                                  'cross_attention_25[0][0]']     \n",
      "                                                                                                  \n",
      " reshape_22 (Reshape)           (None, 832)          0           ['concatenate_10[0][0]']         \n",
      "                                                                                                  \n",
      " dense_112 (Dense)              (None, 512)          426496      ['reshape_22[0][0]']             \n",
      "                                                                                                  \n",
      " batch_normalization_34 (BatchN  (None, 512)         2048        ['dense_112[0][0]']              \n",
      " ormalization)                                                                                    \n",
      "                                                                                                  \n",
      " dense_113 (Dense)              (None, 256)          131328      ['batch_normalization_34[0][0]'] \n",
      "                                                                                                  \n",
      " batch_normalization_35 (BatchN  (None, 256)         1024        ['dense_113[0][0]']              \n",
      " ormalization)                                                                                    \n",
      "                                                                                                  \n",
      " dense_114 (Dense)              (None, 128)          32896       ['batch_normalization_35[0][0]'] \n",
      "                                                                                                  \n",
      " batch_normalization_36 (BatchN  (None, 128)         512         ['dense_114[0][0]']              \n",
      " ormalization)                                                                                    \n",
      "                                                                                                  \n",
      " dense_115 (Dense)              (None, 7)            903         ['batch_normalization_36[0][0]'] \n",
      "                                                                                                  \n",
      "==================================================================================================\n",
      "Total params: 2,305,351\n",
      "Trainable params: 2,303,559\n",
      "Non-trainable params: 1,792\n",
      "__________________________________________________________________________________________________\n"
     ]
    }
   ],
   "source": [
    "bert_output_dim = 768\n",
    "audio_output_dim = (128,128,1)\n",
    "num_classes = 7\n",
    "num_heads = 8\n",
    "key_dim = 64\n",
    "\n",
    "crossattention_model = create_crossattention_model(bert_output_dim, audio_output_dim, num_classes, num_heads, key_dim)\n",
    "crossattention_model.summary()"
   ]
  },
  {
   "cell_type": "code",
   "execution_count": 236,
   "metadata": {},
   "outputs": [
    {
     "name": "stdout",
     "output_type": "stream",
     "text": [
      "You must install pydot (`pip install pydot`) and install graphviz (see instructions at https://graphviz.gitlab.io/download/) for plot_model/model_to_dot to work.\n"
     ]
    }
   ],
   "source": [
    "from tensorflow.keras.utils import plot_model\n",
    "\n",
    "plot_model(crossattention_model, show_shapes=True, show_layer_names=True) # requires graphvis"
   ]
  },
  {
   "cell_type": "code",
   "execution_count": 237,
   "metadata": {},
   "outputs": [
    {
     "name": "stdout",
     "output_type": "stream",
     "text": [
      "Epoch 1/30\n"
     ]
    },
    {
     "name": "stderr",
     "output_type": "stream",
     "text": [
      "2024-04-17 18:17:02.138814: I tensorflow/core/grappler/optimizers/custom_graph_optimizer_registry.cc:113] Plugin optimizer for device_type GPU is enabled.\n"
     ]
    },
    {
     "name": "stdout",
     "output_type": "stream",
     "text": [
      "312/312 [==============================] - ETA: 0s - loss: 1.9740 - accuracy: 0.2496"
     ]
    },
    {
     "name": "stderr",
     "output_type": "stream",
     "text": [
      "2024-04-17 18:17:53.548439: I tensorflow/core/grappler/optimizers/custom_graph_optimizer_registry.cc:113] Plugin optimizer for device_type GPU is enabled.\n"
     ]
    },
    {
     "name": "stdout",
     "output_type": "stream",
     "text": [
      "312/312 [==============================] - 58s 134ms/step - loss: 1.9740 - accuracy: 0.2496 - val_loss: 2.1291 - val_accuracy: 0.1987\n",
      "Epoch 2/30\n",
      "312/312 [==============================] - 41s 131ms/step - loss: 1.8059 - accuracy: 0.2983 - val_loss: 1.7659 - val_accuracy: 0.3542\n",
      "Epoch 3/30\n",
      "312/312 [==============================] - 40s 127ms/step - loss: 1.7550 - accuracy: 0.3351 - val_loss: 1.7851 - val_accuracy: 0.2760\n",
      "Epoch 4/30\n",
      "312/312 [==============================] - 39s 124ms/step - loss: 1.7316 - accuracy: 0.3363 - val_loss: 2.3127 - val_accuracy: 0.1684\n",
      "Epoch 5/30\n",
      "312/312 [==============================] - 39s 124ms/step - loss: 1.6941 - accuracy: 0.3528 - val_loss: 1.6701 - val_accuracy: 0.3468\n",
      "Epoch 6/30\n",
      "312/312 [==============================] - 38s 122ms/step - loss: 1.6684 - accuracy: 0.3527 - val_loss: 1.7736 - val_accuracy: 0.3201\n",
      "Epoch 7/30\n",
      "312/312 [==============================] - 38s 122ms/step - loss: 1.6487 - accuracy: 0.3621 - val_loss: 2.1229 - val_accuracy: 0.2180\n",
      "Epoch 8/30\n",
      "312/312 [==============================] - 39s 124ms/step - loss: 1.6288 - accuracy: 0.3771 - val_loss: 1.8003 - val_accuracy: 0.2962\n",
      "Epoch 9/30\n",
      "312/312 [==============================] - 40s 128ms/step - loss: 1.5927 - accuracy: 0.3820 - val_loss: 2.2110 - val_accuracy: 0.2098\n",
      "Epoch 10/30\n",
      "312/312 [==============================] - 38s 121ms/step - loss: 1.5868 - accuracy: 0.3772 - val_loss: 2.3145 - val_accuracy: 0.2033\n",
      "Epoch 11/30\n",
      "312/312 [==============================] - 41s 129ms/step - loss: 1.5568 - accuracy: 0.3860 - val_loss: 1.9168 - val_accuracy: 0.2944\n",
      "Epoch 12/30\n",
      " 24/312 [=>............................] - ETA: 35s - loss: 1.3360 - accuracy: 0.4049"
     ]
    },
    {
     "ename": "KeyboardInterrupt",
     "evalue": "",
     "output_type": "error",
     "traceback": [
      "\u001b[0;31m---------------------------------------------------------------------------\u001b[0m",
      "\u001b[0;31mKeyboardInterrupt\u001b[0m                         Traceback (most recent call last)",
      "Cell \u001b[0;32mIn[237], line 5\u001b[0m\n\u001b[1;32m      1\u001b[0m crossattention_model\u001b[38;5;241m.\u001b[39mcompile(optimizer\u001b[38;5;241m=\u001b[39m\u001b[38;5;124m'\u001b[39m\u001b[38;5;124madam\u001b[39m\u001b[38;5;124m'\u001b[39m,\n\u001b[1;32m      2\u001b[0m                              loss\u001b[38;5;241m=\u001b[39m\u001b[38;5;124m'\u001b[39m\u001b[38;5;124mcategorical_crossentropy\u001b[39m\u001b[38;5;124m'\u001b[39m, \n\u001b[1;32m      3\u001b[0m                              metrics\u001b[38;5;241m=\u001b[39m[\u001b[38;5;124m'\u001b[39m\u001b[38;5;124maccuracy\u001b[39m\u001b[38;5;124m'\u001b[39m])\n\u001b[0;32m----> 5\u001b[0m crossattention_history \u001b[38;5;241m=\u001b[39m \u001b[43mcrossattention_model\u001b[49m\u001b[38;5;241;43m.\u001b[39;49m\u001b[43mfit\u001b[49m\u001b[43m(\u001b[49m\n\u001b[1;32m      6\u001b[0m \u001b[43m    \u001b[49m\u001b[43mx\u001b[49m\u001b[38;5;241;43m=\u001b[39;49m\u001b[43m(\u001b[49m\u001b[43mpool_embs_train\u001b[49m\u001b[43m,\u001b[49m\u001b[43m \u001b[49m\u001b[43mX_train_mel\u001b[49m\u001b[43m)\u001b[49m\u001b[43m,\u001b[49m\u001b[43m \u001b[49m\n\u001b[1;32m      7\u001b[0m \u001b[43m    \u001b[49m\u001b[43my\u001b[49m\u001b[38;5;241;43m=\u001b[39;49m\u001b[43my_train_text_onehot\u001b[49m\u001b[43m,\u001b[49m\u001b[43m \u001b[49m\n\u001b[1;32m      8\u001b[0m \u001b[43m    \u001b[49m\u001b[43mvalidation_data\u001b[49m\u001b[38;5;241;43m=\u001b[39;49m\u001b[43m(\u001b[49m\u001b[43m(\u001b[49m\u001b[43mpool_embs_val\u001b[49m\u001b[43m,\u001b[49m\u001b[43m \u001b[49m\u001b[43mX_val_mel\u001b[49m\u001b[43m)\u001b[49m\u001b[43m,\u001b[49m\u001b[43m \u001b[49m\n\u001b[1;32m      9\u001b[0m \u001b[43m                     \u001b[49m\u001b[43my_val_text_onehot\u001b[49m\u001b[43m)\u001b[49m\u001b[43m,\u001b[49m\n\u001b[1;32m     10\u001b[0m \u001b[43m    \u001b[49m\u001b[43mbatch_size\u001b[49m\u001b[38;5;241;43m=\u001b[39;49m\u001b[38;5;241;43m32\u001b[39;49m\u001b[43m,\u001b[49m\n\u001b[1;32m     11\u001b[0m \u001b[43m    \u001b[49m\u001b[43mepochs\u001b[49m\u001b[38;5;241;43m=\u001b[39;49m\u001b[38;5;241;43m30\u001b[39;49m\u001b[43m,\u001b[49m\n\u001b[1;32m     12\u001b[0m \u001b[43m    \u001b[49m\u001b[43mclass_weight\u001b[49m\u001b[38;5;241;43m=\u001b[39;49m\u001b[43md_class_weights\u001b[49m\u001b[43m)\u001b[49m\n",
      "File \u001b[0;32m~/Documents/bachelors-project/mc-ecpe/.venv/lib/python3.10/site-packages/keras/utils/traceback_utils.py:64\u001b[0m, in \u001b[0;36mfilter_traceback.<locals>.error_handler\u001b[0;34m(*args, **kwargs)\u001b[0m\n\u001b[1;32m     62\u001b[0m filtered_tb \u001b[38;5;241m=\u001b[39m \u001b[38;5;28;01mNone\u001b[39;00m\n\u001b[1;32m     63\u001b[0m \u001b[38;5;28;01mtry\u001b[39;00m:\n\u001b[0;32m---> 64\u001b[0m   \u001b[38;5;28;01mreturn\u001b[39;00m \u001b[43mfn\u001b[49m\u001b[43m(\u001b[49m\u001b[38;5;241;43m*\u001b[39;49m\u001b[43margs\u001b[49m\u001b[43m,\u001b[49m\u001b[43m \u001b[49m\u001b[38;5;241;43m*\u001b[39;49m\u001b[38;5;241;43m*\u001b[39;49m\u001b[43mkwargs\u001b[49m\u001b[43m)\u001b[49m\n\u001b[1;32m     65\u001b[0m \u001b[38;5;28;01mexcept\u001b[39;00m \u001b[38;5;167;01mException\u001b[39;00m \u001b[38;5;28;01mas\u001b[39;00m e:  \u001b[38;5;66;03m# pylint: disable=broad-except\u001b[39;00m\n\u001b[1;32m     66\u001b[0m   filtered_tb \u001b[38;5;241m=\u001b[39m _process_traceback_frames(e\u001b[38;5;241m.\u001b[39m__traceback__)\n",
      "File \u001b[0;32m~/Documents/bachelors-project/mc-ecpe/.venv/lib/python3.10/site-packages/keras/engine/training.py:1409\u001b[0m, in \u001b[0;36mModel.fit\u001b[0;34m(self, x, y, batch_size, epochs, verbose, callbacks, validation_split, validation_data, shuffle, class_weight, sample_weight, initial_epoch, steps_per_epoch, validation_steps, validation_batch_size, validation_freq, max_queue_size, workers, use_multiprocessing)\u001b[0m\n\u001b[1;32m   1402\u001b[0m \u001b[38;5;28;01mwith\u001b[39;00m tf\u001b[38;5;241m.\u001b[39mprofiler\u001b[38;5;241m.\u001b[39mexperimental\u001b[38;5;241m.\u001b[39mTrace(\n\u001b[1;32m   1403\u001b[0m     \u001b[38;5;124m'\u001b[39m\u001b[38;5;124mtrain\u001b[39m\u001b[38;5;124m'\u001b[39m,\n\u001b[1;32m   1404\u001b[0m     epoch_num\u001b[38;5;241m=\u001b[39mepoch,\n\u001b[1;32m   1405\u001b[0m     step_num\u001b[38;5;241m=\u001b[39mstep,\n\u001b[1;32m   1406\u001b[0m     batch_size\u001b[38;5;241m=\u001b[39mbatch_size,\n\u001b[1;32m   1407\u001b[0m     _r\u001b[38;5;241m=\u001b[39m\u001b[38;5;241m1\u001b[39m):\n\u001b[1;32m   1408\u001b[0m   callbacks\u001b[38;5;241m.\u001b[39mon_train_batch_begin(step)\n\u001b[0;32m-> 1409\u001b[0m   tmp_logs \u001b[38;5;241m=\u001b[39m \u001b[38;5;28;43mself\u001b[39;49m\u001b[38;5;241;43m.\u001b[39;49m\u001b[43mtrain_function\u001b[49m\u001b[43m(\u001b[49m\u001b[43miterator\u001b[49m\u001b[43m)\u001b[49m\n\u001b[1;32m   1410\u001b[0m   \u001b[38;5;28;01mif\u001b[39;00m data_handler\u001b[38;5;241m.\u001b[39mshould_sync:\n\u001b[1;32m   1411\u001b[0m     context\u001b[38;5;241m.\u001b[39masync_wait()\n",
      "File \u001b[0;32m~/Documents/bachelors-project/mc-ecpe/.venv/lib/python3.10/site-packages/tensorflow/python/util/traceback_utils.py:150\u001b[0m, in \u001b[0;36mfilter_traceback.<locals>.error_handler\u001b[0;34m(*args, **kwargs)\u001b[0m\n\u001b[1;32m    148\u001b[0m filtered_tb \u001b[38;5;241m=\u001b[39m \u001b[38;5;28;01mNone\u001b[39;00m\n\u001b[1;32m    149\u001b[0m \u001b[38;5;28;01mtry\u001b[39;00m:\n\u001b[0;32m--> 150\u001b[0m   \u001b[38;5;28;01mreturn\u001b[39;00m \u001b[43mfn\u001b[49m\u001b[43m(\u001b[49m\u001b[38;5;241;43m*\u001b[39;49m\u001b[43margs\u001b[49m\u001b[43m,\u001b[49m\u001b[43m \u001b[49m\u001b[38;5;241;43m*\u001b[39;49m\u001b[38;5;241;43m*\u001b[39;49m\u001b[43mkwargs\u001b[49m\u001b[43m)\u001b[49m\n\u001b[1;32m    151\u001b[0m \u001b[38;5;28;01mexcept\u001b[39;00m \u001b[38;5;167;01mException\u001b[39;00m \u001b[38;5;28;01mas\u001b[39;00m e:\n\u001b[1;32m    152\u001b[0m   filtered_tb \u001b[38;5;241m=\u001b[39m _process_traceback_frames(e\u001b[38;5;241m.\u001b[39m__traceback__)\n",
      "File \u001b[0;32m~/Documents/bachelors-project/mc-ecpe/.venv/lib/python3.10/site-packages/tensorflow/python/eager/def_function.py:915\u001b[0m, in \u001b[0;36mFunction.__call__\u001b[0;34m(self, *args, **kwds)\u001b[0m\n\u001b[1;32m    912\u001b[0m compiler \u001b[38;5;241m=\u001b[39m \u001b[38;5;124m\"\u001b[39m\u001b[38;5;124mxla\u001b[39m\u001b[38;5;124m\"\u001b[39m \u001b[38;5;28;01mif\u001b[39;00m \u001b[38;5;28mself\u001b[39m\u001b[38;5;241m.\u001b[39m_jit_compile \u001b[38;5;28;01melse\u001b[39;00m \u001b[38;5;124m\"\u001b[39m\u001b[38;5;124mnonXla\u001b[39m\u001b[38;5;124m\"\u001b[39m\n\u001b[1;32m    914\u001b[0m \u001b[38;5;28;01mwith\u001b[39;00m OptionalXlaContext(\u001b[38;5;28mself\u001b[39m\u001b[38;5;241m.\u001b[39m_jit_compile):\n\u001b[0;32m--> 915\u001b[0m   result \u001b[38;5;241m=\u001b[39m \u001b[38;5;28;43mself\u001b[39;49m\u001b[38;5;241;43m.\u001b[39;49m\u001b[43m_call\u001b[49m\u001b[43m(\u001b[49m\u001b[38;5;241;43m*\u001b[39;49m\u001b[43margs\u001b[49m\u001b[43m,\u001b[49m\u001b[43m \u001b[49m\u001b[38;5;241;43m*\u001b[39;49m\u001b[38;5;241;43m*\u001b[39;49m\u001b[43mkwds\u001b[49m\u001b[43m)\u001b[49m\n\u001b[1;32m    917\u001b[0m new_tracing_count \u001b[38;5;241m=\u001b[39m \u001b[38;5;28mself\u001b[39m\u001b[38;5;241m.\u001b[39mexperimental_get_tracing_count()\n\u001b[1;32m    918\u001b[0m without_tracing \u001b[38;5;241m=\u001b[39m (tracing_count \u001b[38;5;241m==\u001b[39m new_tracing_count)\n",
      "File \u001b[0;32m~/Documents/bachelors-project/mc-ecpe/.venv/lib/python3.10/site-packages/tensorflow/python/eager/def_function.py:947\u001b[0m, in \u001b[0;36mFunction._call\u001b[0;34m(self, *args, **kwds)\u001b[0m\n\u001b[1;32m    944\u001b[0m   \u001b[38;5;28mself\u001b[39m\u001b[38;5;241m.\u001b[39m_lock\u001b[38;5;241m.\u001b[39mrelease()\n\u001b[1;32m    945\u001b[0m   \u001b[38;5;66;03m# In this case we have created variables on the first call, so we run the\u001b[39;00m\n\u001b[1;32m    946\u001b[0m   \u001b[38;5;66;03m# defunned version which is guaranteed to never create variables.\u001b[39;00m\n\u001b[0;32m--> 947\u001b[0m   \u001b[38;5;28;01mreturn\u001b[39;00m \u001b[38;5;28;43mself\u001b[39;49m\u001b[38;5;241;43m.\u001b[39;49m\u001b[43m_stateless_fn\u001b[49m\u001b[43m(\u001b[49m\u001b[38;5;241;43m*\u001b[39;49m\u001b[43margs\u001b[49m\u001b[43m,\u001b[49m\u001b[43m \u001b[49m\u001b[38;5;241;43m*\u001b[39;49m\u001b[38;5;241;43m*\u001b[39;49m\u001b[43mkwds\u001b[49m\u001b[43m)\u001b[49m  \u001b[38;5;66;03m# pylint: disable=not-callable\u001b[39;00m\n\u001b[1;32m    948\u001b[0m \u001b[38;5;28;01melif\u001b[39;00m \u001b[38;5;28mself\u001b[39m\u001b[38;5;241m.\u001b[39m_stateful_fn \u001b[38;5;129;01mis\u001b[39;00m \u001b[38;5;129;01mnot\u001b[39;00m \u001b[38;5;28;01mNone\u001b[39;00m:\n\u001b[1;32m    949\u001b[0m   \u001b[38;5;66;03m# Release the lock early so that multiple threads can perform the call\u001b[39;00m\n\u001b[1;32m    950\u001b[0m   \u001b[38;5;66;03m# in parallel.\u001b[39;00m\n\u001b[1;32m    951\u001b[0m   \u001b[38;5;28mself\u001b[39m\u001b[38;5;241m.\u001b[39m_lock\u001b[38;5;241m.\u001b[39mrelease()\n",
      "File \u001b[0;32m~/Documents/bachelors-project/mc-ecpe/.venv/lib/python3.10/site-packages/tensorflow/python/eager/function.py:2453\u001b[0m, in \u001b[0;36mFunction.__call__\u001b[0;34m(self, *args, **kwargs)\u001b[0m\n\u001b[1;32m   2450\u001b[0m \u001b[38;5;28;01mwith\u001b[39;00m \u001b[38;5;28mself\u001b[39m\u001b[38;5;241m.\u001b[39m_lock:\n\u001b[1;32m   2451\u001b[0m   (graph_function,\n\u001b[1;32m   2452\u001b[0m    filtered_flat_args) \u001b[38;5;241m=\u001b[39m \u001b[38;5;28mself\u001b[39m\u001b[38;5;241m.\u001b[39m_maybe_define_function(args, kwargs)\n\u001b[0;32m-> 2453\u001b[0m \u001b[38;5;28;01mreturn\u001b[39;00m \u001b[43mgraph_function\u001b[49m\u001b[38;5;241;43m.\u001b[39;49m\u001b[43m_call_flat\u001b[49m\u001b[43m(\u001b[49m\n\u001b[1;32m   2454\u001b[0m \u001b[43m    \u001b[49m\u001b[43mfiltered_flat_args\u001b[49m\u001b[43m,\u001b[49m\u001b[43m \u001b[49m\u001b[43mcaptured_inputs\u001b[49m\u001b[38;5;241;43m=\u001b[39;49m\u001b[43mgraph_function\u001b[49m\u001b[38;5;241;43m.\u001b[39;49m\u001b[43mcaptured_inputs\u001b[49m\u001b[43m)\u001b[49m\n",
      "File \u001b[0;32m~/Documents/bachelors-project/mc-ecpe/.venv/lib/python3.10/site-packages/tensorflow/python/eager/function.py:1860\u001b[0m, in \u001b[0;36mConcreteFunction._call_flat\u001b[0;34m(self, args, captured_inputs, cancellation_manager)\u001b[0m\n\u001b[1;32m   1856\u001b[0m possible_gradient_type \u001b[38;5;241m=\u001b[39m gradients_util\u001b[38;5;241m.\u001b[39mPossibleTapeGradientTypes(args)\n\u001b[1;32m   1857\u001b[0m \u001b[38;5;28;01mif\u001b[39;00m (possible_gradient_type \u001b[38;5;241m==\u001b[39m gradients_util\u001b[38;5;241m.\u001b[39mPOSSIBLE_GRADIENT_TYPES_NONE\n\u001b[1;32m   1858\u001b[0m     \u001b[38;5;129;01mand\u001b[39;00m executing_eagerly):\n\u001b[1;32m   1859\u001b[0m   \u001b[38;5;66;03m# No tape is watching; skip to running the function.\u001b[39;00m\n\u001b[0;32m-> 1860\u001b[0m   \u001b[38;5;28;01mreturn\u001b[39;00m \u001b[38;5;28mself\u001b[39m\u001b[38;5;241m.\u001b[39m_build_call_outputs(\u001b[38;5;28;43mself\u001b[39;49m\u001b[38;5;241;43m.\u001b[39;49m\u001b[43m_inference_function\u001b[49m\u001b[38;5;241;43m.\u001b[39;49m\u001b[43mcall\u001b[49m\u001b[43m(\u001b[49m\n\u001b[1;32m   1861\u001b[0m \u001b[43m      \u001b[49m\u001b[43mctx\u001b[49m\u001b[43m,\u001b[49m\u001b[43m \u001b[49m\u001b[43margs\u001b[49m\u001b[43m,\u001b[49m\u001b[43m \u001b[49m\u001b[43mcancellation_manager\u001b[49m\u001b[38;5;241;43m=\u001b[39;49m\u001b[43mcancellation_manager\u001b[49m\u001b[43m)\u001b[49m)\n\u001b[1;32m   1862\u001b[0m forward_backward \u001b[38;5;241m=\u001b[39m \u001b[38;5;28mself\u001b[39m\u001b[38;5;241m.\u001b[39m_select_forward_and_backward_functions(\n\u001b[1;32m   1863\u001b[0m     args,\n\u001b[1;32m   1864\u001b[0m     possible_gradient_type,\n\u001b[1;32m   1865\u001b[0m     executing_eagerly)\n\u001b[1;32m   1866\u001b[0m forward_function, args_with_tangents \u001b[38;5;241m=\u001b[39m forward_backward\u001b[38;5;241m.\u001b[39mforward()\n",
      "File \u001b[0;32m~/Documents/bachelors-project/mc-ecpe/.venv/lib/python3.10/site-packages/tensorflow/python/eager/function.py:497\u001b[0m, in \u001b[0;36m_EagerDefinedFunction.call\u001b[0;34m(self, ctx, args, cancellation_manager)\u001b[0m\n\u001b[1;32m    495\u001b[0m \u001b[38;5;28;01mwith\u001b[39;00m _InterpolateFunctionError(\u001b[38;5;28mself\u001b[39m):\n\u001b[1;32m    496\u001b[0m   \u001b[38;5;28;01mif\u001b[39;00m cancellation_manager \u001b[38;5;129;01mis\u001b[39;00m \u001b[38;5;28;01mNone\u001b[39;00m:\n\u001b[0;32m--> 497\u001b[0m     outputs \u001b[38;5;241m=\u001b[39m \u001b[43mexecute\u001b[49m\u001b[38;5;241;43m.\u001b[39;49m\u001b[43mexecute\u001b[49m\u001b[43m(\u001b[49m\n\u001b[1;32m    498\u001b[0m \u001b[43m        \u001b[49m\u001b[38;5;28;43mstr\u001b[39;49m\u001b[43m(\u001b[49m\u001b[38;5;28;43mself\u001b[39;49m\u001b[38;5;241;43m.\u001b[39;49m\u001b[43msignature\u001b[49m\u001b[38;5;241;43m.\u001b[39;49m\u001b[43mname\u001b[49m\u001b[43m)\u001b[49m\u001b[43m,\u001b[49m\n\u001b[1;32m    499\u001b[0m \u001b[43m        \u001b[49m\u001b[43mnum_outputs\u001b[49m\u001b[38;5;241;43m=\u001b[39;49m\u001b[38;5;28;43mself\u001b[39;49m\u001b[38;5;241;43m.\u001b[39;49m\u001b[43m_num_outputs\u001b[49m\u001b[43m,\u001b[49m\n\u001b[1;32m    500\u001b[0m \u001b[43m        \u001b[49m\u001b[43minputs\u001b[49m\u001b[38;5;241;43m=\u001b[39;49m\u001b[43margs\u001b[49m\u001b[43m,\u001b[49m\n\u001b[1;32m    501\u001b[0m \u001b[43m        \u001b[49m\u001b[43mattrs\u001b[49m\u001b[38;5;241;43m=\u001b[39;49m\u001b[43mattrs\u001b[49m\u001b[43m,\u001b[49m\n\u001b[1;32m    502\u001b[0m \u001b[43m        \u001b[49m\u001b[43mctx\u001b[49m\u001b[38;5;241;43m=\u001b[39;49m\u001b[43mctx\u001b[49m\u001b[43m)\u001b[49m\n\u001b[1;32m    503\u001b[0m   \u001b[38;5;28;01melse\u001b[39;00m:\n\u001b[1;32m    504\u001b[0m     outputs \u001b[38;5;241m=\u001b[39m execute\u001b[38;5;241m.\u001b[39mexecute_with_cancellation(\n\u001b[1;32m    505\u001b[0m         \u001b[38;5;28mstr\u001b[39m(\u001b[38;5;28mself\u001b[39m\u001b[38;5;241m.\u001b[39msignature\u001b[38;5;241m.\u001b[39mname),\n\u001b[1;32m    506\u001b[0m         num_outputs\u001b[38;5;241m=\u001b[39m\u001b[38;5;28mself\u001b[39m\u001b[38;5;241m.\u001b[39m_num_outputs,\n\u001b[0;32m   (...)\u001b[0m\n\u001b[1;32m    509\u001b[0m         ctx\u001b[38;5;241m=\u001b[39mctx,\n\u001b[1;32m    510\u001b[0m         cancellation_manager\u001b[38;5;241m=\u001b[39mcancellation_manager)\n",
      "File \u001b[0;32m~/Documents/bachelors-project/mc-ecpe/.venv/lib/python3.10/site-packages/tensorflow/python/eager/execute.py:54\u001b[0m, in \u001b[0;36mquick_execute\u001b[0;34m(op_name, num_outputs, inputs, attrs, ctx, name)\u001b[0m\n\u001b[1;32m     52\u001b[0m \u001b[38;5;28;01mtry\u001b[39;00m:\n\u001b[1;32m     53\u001b[0m   ctx\u001b[38;5;241m.\u001b[39mensure_initialized()\n\u001b[0;32m---> 54\u001b[0m   tensors \u001b[38;5;241m=\u001b[39m \u001b[43mpywrap_tfe\u001b[49m\u001b[38;5;241;43m.\u001b[39;49m\u001b[43mTFE_Py_Execute\u001b[49m\u001b[43m(\u001b[49m\u001b[43mctx\u001b[49m\u001b[38;5;241;43m.\u001b[39;49m\u001b[43m_handle\u001b[49m\u001b[43m,\u001b[49m\u001b[43m \u001b[49m\u001b[43mdevice_name\u001b[49m\u001b[43m,\u001b[49m\u001b[43m \u001b[49m\u001b[43mop_name\u001b[49m\u001b[43m,\u001b[49m\n\u001b[1;32m     55\u001b[0m \u001b[43m                                      \u001b[49m\u001b[43minputs\u001b[49m\u001b[43m,\u001b[49m\u001b[43m \u001b[49m\u001b[43mattrs\u001b[49m\u001b[43m,\u001b[49m\u001b[43m \u001b[49m\u001b[43mnum_outputs\u001b[49m\u001b[43m)\u001b[49m\n\u001b[1;32m     56\u001b[0m \u001b[38;5;28;01mexcept\u001b[39;00m core\u001b[38;5;241m.\u001b[39m_NotOkStatusException \u001b[38;5;28;01mas\u001b[39;00m e:\n\u001b[1;32m     57\u001b[0m   \u001b[38;5;28;01mif\u001b[39;00m name \u001b[38;5;129;01mis\u001b[39;00m \u001b[38;5;129;01mnot\u001b[39;00m \u001b[38;5;28;01mNone\u001b[39;00m:\n",
      "\u001b[0;31mKeyboardInterrupt\u001b[0m: "
     ]
    }
   ],
   "source": [
    "crossattention_model.compile(optimizer='adam',\n",
    "                             loss='categorical_crossentropy', \n",
    "                             metrics=['accuracy'])\n",
    "\n",
    "crossattention_history = crossattention_model.fit(\n",
    "    x=(pool_embs_train, X_train_mel), \n",
    "    y=y_train_text_onehot, \n",
    "    validation_data=((pool_embs_val, X_val_mel), \n",
    "                     y_val_text_onehot),\n",
    "    batch_size=32,\n",
    "    epochs=30,\n",
    "    class_weight=d_class_weights)"
   ]
  },
  {
   "cell_type": "code",
   "execution_count": null,
   "metadata": {},
   "outputs": [],
   "source": []
  }
 ],
 "metadata": {
  "kernelspec": {
   "display_name": ".venv",
   "language": "python",
   "name": "python3"
  },
  "language_info": {
   "codemirror_mode": {
    "name": "ipython",
    "version": 3
   },
   "file_extension": ".py",
   "mimetype": "text/x-python",
   "name": "python",
   "nbconvert_exporter": "python",
   "pygments_lexer": "ipython3",
   "version": "3.10.9"
  }
 },
 "nbformat": 4,
 "nbformat_minor": 2
}
